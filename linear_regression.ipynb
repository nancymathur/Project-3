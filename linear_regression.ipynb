{
 "cells": [
  {
   "cell_type": "code",
   "execution_count": 151,
   "metadata": {},
   "outputs": [],
   "source": [
    "import matplotlib.pyplot as plt\n",
    "import numpy as np\n",
    "import pandas as pd"
   ]
  },
  {
   "cell_type": "code",
   "execution_count": 152,
   "metadata": {},
   "outputs": [
    {
     "data": {
      "text/html": [
       "<div>\n",
       "<style scoped>\n",
       "    .dataframe tbody tr th:only-of-type {\n",
       "        vertical-align: middle;\n",
       "    }\n",
       "\n",
       "    .dataframe tbody tr th {\n",
       "        vertical-align: top;\n",
       "    }\n",
       "\n",
       "    .dataframe thead th {\n",
       "        text-align: right;\n",
       "    }\n",
       "</style>\n",
       "<table border=\"1\" class=\"dataframe\">\n",
       "  <thead>\n",
       "    <tr style=\"text-align: right;\">\n",
       "      <th></th>\n",
       "      <th>Unnamed: 0</th>\n",
       "      <th>budget</th>\n",
       "      <th>company</th>\n",
       "      <th>country</th>\n",
       "      <th>director</th>\n",
       "      <th>genre</th>\n",
       "      <th>gross</th>\n",
       "      <th>film</th>\n",
       "      <th>rating</th>\n",
       "      <th>released</th>\n",
       "      <th>...</th>\n",
       "      <th>year</th>\n",
       "      <th>Oscar Award Count</th>\n",
       "      <th>Oscar Nominations</th>\n",
       "      <th>star avg score</th>\n",
       "      <th>director avg score</th>\n",
       "      <th>writer avg score</th>\n",
       "      <th>Golden Globes Awards</th>\n",
       "      <th>Golden Globes Nominations</th>\n",
       "      <th>Total Nominations</th>\n",
       "      <th>Total Awards</th>\n",
       "    </tr>\n",
       "  </thead>\n",
       "  <tbody>\n",
       "    <tr>\n",
       "      <th>0</th>\n",
       "      <td>0</td>\n",
       "      <td>30000000</td>\n",
       "      <td>Focus Features</td>\n",
       "      <td>USA</td>\n",
       "      <td>Shane Acker</td>\n",
       "      <td>Animation</td>\n",
       "      <td>31743332</td>\n",
       "      <td>9</td>\n",
       "      <td>PG-13</td>\n",
       "      <td>1987</td>\n",
       "      <td>...</td>\n",
       "      <td>2009</td>\n",
       "      <td>0.0</td>\n",
       "      <td>1.0</td>\n",
       "      <td>6.864286</td>\n",
       "      <td>7.100000</td>\n",
       "      <td>7.100000</td>\n",
       "      <td>0.0</td>\n",
       "      <td>1.0</td>\n",
       "      <td>2.0</td>\n",
       "      <td>0.0</td>\n",
       "    </tr>\n",
       "    <tr>\n",
       "      <th>1</th>\n",
       "      <td>1</td>\n",
       "      <td>35000000</td>\n",
       "      <td>Columbia Pictures</td>\n",
       "      <td>USA</td>\n",
       "      <td>Robert Luketic</td>\n",
       "      <td>Crime</td>\n",
       "      <td>81159365</td>\n",
       "      <td>21</td>\n",
       "      <td>PG-13</td>\n",
       "      <td>1988</td>\n",
       "      <td>...</td>\n",
       "      <td>2008</td>\n",
       "      <td>0.0</td>\n",
       "      <td>0.0</td>\n",
       "      <td>6.875000</td>\n",
       "      <td>5.957143</td>\n",
       "      <td>6.200000</td>\n",
       "      <td>0.0</td>\n",
       "      <td>1.0</td>\n",
       "      <td>1.0</td>\n",
       "      <td>0.0</td>\n",
       "    </tr>\n",
       "    <tr>\n",
       "      <th>2</th>\n",
       "      <td>2</td>\n",
       "      <td>1500000</td>\n",
       "      <td>Bow and Arrow Entertainment</td>\n",
       "      <td>UK</td>\n",
       "      <td>Rob Zombie</td>\n",
       "      <td>Horror</td>\n",
       "      <td>779820</td>\n",
       "      <td>31</td>\n",
       "      <td>R</td>\n",
       "      <td>1994</td>\n",
       "      <td>...</td>\n",
       "      <td>2016</td>\n",
       "      <td>0.0</td>\n",
       "      <td>0.0</td>\n",
       "      <td>5.900000</td>\n",
       "      <td>5.666667</td>\n",
       "      <td>5.666667</td>\n",
       "      <td>0.0</td>\n",
       "      <td>1.0</td>\n",
       "      <td>1.0</td>\n",
       "      <td>0.0</td>\n",
       "    </tr>\n",
       "    <tr>\n",
       "      <th>3</th>\n",
       "      <td>3</td>\n",
       "      <td>40000000</td>\n",
       "      <td>Warner Bros.</td>\n",
       "      <td>USA</td>\n",
       "      <td>Brian Helgeland</td>\n",
       "      <td>Biography</td>\n",
       "      <td>95001343</td>\n",
       "      <td>42</td>\n",
       "      <td>PG-13</td>\n",
       "      <td>1995</td>\n",
       "      <td>...</td>\n",
       "      <td>2013</td>\n",
       "      <td>0.0</td>\n",
       "      <td>0.0</td>\n",
       "      <td>7.500000</td>\n",
       "      <td>6.740000</td>\n",
       "      <td>6.630000</td>\n",
       "      <td>0.0</td>\n",
       "      <td>1.0</td>\n",
       "      <td>1.0</td>\n",
       "      <td>0.0</td>\n",
       "    </tr>\n",
       "    <tr>\n",
       "      <th>4</th>\n",
       "      <td>4</td>\n",
       "      <td>13000000</td>\n",
       "      <td>Dollface</td>\n",
       "      <td>USA</td>\n",
       "      <td>Mark Christopher</td>\n",
       "      <td>Drama</td>\n",
       "      <td>16574731</td>\n",
       "      <td>54</td>\n",
       "      <td>R</td>\n",
       "      <td>1999</td>\n",
       "      <td>...</td>\n",
       "      <td>1998</td>\n",
       "      <td>0.0</td>\n",
       "      <td>0.0</td>\n",
       "      <td>6.440000</td>\n",
       "      <td>5.800000</td>\n",
       "      <td>5.800000</td>\n",
       "      <td>0.0</td>\n",
       "      <td>1.0</td>\n",
       "      <td>1.0</td>\n",
       "      <td>0.0</td>\n",
       "    </tr>\n",
       "  </tbody>\n",
       "</table>\n",
       "<p>5 rows × 25 columns</p>\n",
       "</div>"
      ],
      "text/plain": [
       "   Unnamed: 0    budget                      company country  \\\n",
       "0           0  30000000               Focus Features     USA   \n",
       "1           1  35000000            Columbia Pictures     USA   \n",
       "2           2   1500000  Bow and Arrow Entertainment      UK   \n",
       "3           3  40000000                 Warner Bros.     USA   \n",
       "4           4  13000000                     Dollface     USA   \n",
       "\n",
       "           director      genre     gross film rating released  ...  year  \\\n",
       "0       Shane Acker  Animation  31743332    9  PG-13     1987  ...  2009   \n",
       "1    Robert Luketic      Crime  81159365   21  PG-13     1988  ...  2008   \n",
       "2        Rob Zombie     Horror    779820   31      R     1994  ...  2016   \n",
       "3   Brian Helgeland  Biography  95001343   42  PG-13     1995  ...  2013   \n",
       "4  Mark Christopher      Drama  16574731   54      R     1999  ...  1998   \n",
       "\n",
       "   Oscar Award Count Oscar Nominations  star avg score director avg score  \\\n",
       "0                0.0               1.0        6.864286           7.100000   \n",
       "1                0.0               0.0        6.875000           5.957143   \n",
       "2                0.0               0.0        5.900000           5.666667   \n",
       "3                0.0               0.0        7.500000           6.740000   \n",
       "4                0.0               0.0        6.440000           5.800000   \n",
       "\n",
       "   writer avg score  Golden Globes Awards  Golden Globes Nominations  \\\n",
       "0          7.100000                   0.0                        1.0   \n",
       "1          6.200000                   0.0                        1.0   \n",
       "2          5.666667                   0.0                        1.0   \n",
       "3          6.630000                   0.0                        1.0   \n",
       "4          5.800000                   0.0                        1.0   \n",
       "\n",
       "   Total Nominations  Total Awards  \n",
       "0                2.0           0.0  \n",
       "1                1.0           0.0  \n",
       "2                1.0           0.0  \n",
       "3                1.0           0.0  \n",
       "4                1.0           0.0  \n",
       "\n",
       "[5 rows x 25 columns]"
      ]
     },
     "execution_count": 152,
     "metadata": {},
     "output_type": "execute_result"
    }
   ],
   "source": [
    "# Read the csv file into a pandas DataFrame\n",
    "movies = pd.read_csv('Resources/final.csv')\n",
    "movies.head()\n"
   ]
  },
  {
   "cell_type": "code",
   "execution_count": 153,
   "metadata": {},
   "outputs": [
    {
     "data": {
      "text/html": [
       "<div>\n",
       "<style scoped>\n",
       "    .dataframe tbody tr th:only-of-type {\n",
       "        vertical-align: middle;\n",
       "    }\n",
       "\n",
       "    .dataframe tbody tr th {\n",
       "        vertical-align: top;\n",
       "    }\n",
       "\n",
       "    .dataframe thead th {\n",
       "        text-align: right;\n",
       "    }\n",
       "</style>\n",
       "<table border=\"1\" class=\"dataframe\">\n",
       "  <thead>\n",
       "    <tr style=\"text-align: right;\">\n",
       "      <th></th>\n",
       "      <th>movie score</th>\n",
       "      <th>budget</th>\n",
       "      <th>gross</th>\n",
       "      <th>runtime</th>\n",
       "      <th>votes</th>\n",
       "      <th>star avg score</th>\n",
       "      <th>director avg score</th>\n",
       "      <th>writer avg score</th>\n",
       "      <th>Total Nominations</th>\n",
       "      <th>Total Awards</th>\n",
       "    </tr>\n",
       "  </thead>\n",
       "  <tbody>\n",
       "    <tr>\n",
       "      <th>0</th>\n",
       "      <td>7.1</td>\n",
       "      <td>30000000</td>\n",
       "      <td>31743332</td>\n",
       "      <td>79</td>\n",
       "      <td>117268</td>\n",
       "      <td>6.864286</td>\n",
       "      <td>7.100000</td>\n",
       "      <td>7.100000</td>\n",
       "      <td>2.0</td>\n",
       "      <td>0.0</td>\n",
       "    </tr>\n",
       "    <tr>\n",
       "      <th>1</th>\n",
       "      <td>6.8</td>\n",
       "      <td>35000000</td>\n",
       "      <td>81159365</td>\n",
       "      <td>123</td>\n",
       "      <td>201705</td>\n",
       "      <td>6.875000</td>\n",
       "      <td>5.957143</td>\n",
       "      <td>6.200000</td>\n",
       "      <td>1.0</td>\n",
       "      <td>0.0</td>\n",
       "    </tr>\n",
       "    <tr>\n",
       "      <th>2</th>\n",
       "      <td>5.0</td>\n",
       "      <td>1500000</td>\n",
       "      <td>779820</td>\n",
       "      <td>102</td>\n",
       "      <td>11945</td>\n",
       "      <td>5.900000</td>\n",
       "      <td>5.666667</td>\n",
       "      <td>5.666667</td>\n",
       "      <td>1.0</td>\n",
       "      <td>0.0</td>\n",
       "    </tr>\n",
       "  </tbody>\n",
       "</table>\n",
       "</div>"
      ],
      "text/plain": [
       "   movie score    budget     gross  runtime   votes  star avg score  \\\n",
       "0          7.1  30000000  31743332       79  117268        6.864286   \n",
       "1          6.8  35000000  81159365      123  201705        6.875000   \n",
       "2          5.0   1500000    779820      102   11945        5.900000   \n",
       "\n",
       "   director avg score  writer avg score  Total Nominations  Total Awards  \n",
       "0            7.100000          7.100000                2.0           0.0  \n",
       "1            5.957143          6.200000                1.0           0.0  \n",
       "2            5.666667          5.666667                1.0           0.0  "
      ]
     },
     "execution_count": 153,
     "metadata": {},
     "output_type": "execute_result"
    }
   ],
   "source": [
    "clean = movies[['movie score', 'budget', 'gross','runtime', 'votes','star avg score', 'director avg score','writer avg score','Total Nominations', 'Total Awards']]\n",
    "clean.head(3)"
   ]
  },
  {
   "cell_type": "code",
   "execution_count": 165,
   "metadata": {},
   "outputs": [],
   "source": [
    "clean.to_csv('Resources/clean.csv')"
   ]
  },
  {
   "cell_type": "code",
   "execution_count": 154,
   "metadata": {
    "scrolled": true
   },
   "outputs": [
    {
     "data": {
      "text/html": [
       "<div>\n",
       "<style scoped>\n",
       "    .dataframe tbody tr th:only-of-type {\n",
       "        vertical-align: middle;\n",
       "    }\n",
       "\n",
       "    .dataframe tbody tr th {\n",
       "        vertical-align: top;\n",
       "    }\n",
       "\n",
       "    .dataframe thead th {\n",
       "        text-align: right;\n",
       "    }\n",
       "</style>\n",
       "<table border=\"1\" class=\"dataframe\">\n",
       "  <thead>\n",
       "    <tr style=\"text-align: right;\">\n",
       "      <th></th>\n",
       "      <th>movie score</th>\n",
       "      <th>budget</th>\n",
       "      <th>gross</th>\n",
       "      <th>runtime</th>\n",
       "      <th>votes</th>\n",
       "      <th>star avg score</th>\n",
       "      <th>director avg score</th>\n",
       "      <th>writer avg score</th>\n",
       "      <th>Total Nominations</th>\n",
       "      <th>Total Awards</th>\n",
       "    </tr>\n",
       "  </thead>\n",
       "  <tbody>\n",
       "    <tr>\n",
       "      <th>0</th>\n",
       "      <td>7.1</td>\n",
       "      <td>30000000</td>\n",
       "      <td>31743332</td>\n",
       "      <td>79</td>\n",
       "      <td>117268</td>\n",
       "      <td>6.864286</td>\n",
       "      <td>7.100000</td>\n",
       "      <td>7.100000</td>\n",
       "      <td>2.0</td>\n",
       "      <td>0.0</td>\n",
       "    </tr>\n",
       "    <tr>\n",
       "      <th>1</th>\n",
       "      <td>6.8</td>\n",
       "      <td>35000000</td>\n",
       "      <td>81159365</td>\n",
       "      <td>123</td>\n",
       "      <td>201705</td>\n",
       "      <td>6.875000</td>\n",
       "      <td>5.957143</td>\n",
       "      <td>6.200000</td>\n",
       "      <td>1.0</td>\n",
       "      <td>0.0</td>\n",
       "    </tr>\n",
       "    <tr>\n",
       "      <th>2</th>\n",
       "      <td>5.0</td>\n",
       "      <td>1500000</td>\n",
       "      <td>779820</td>\n",
       "      <td>102</td>\n",
       "      <td>11945</td>\n",
       "      <td>5.900000</td>\n",
       "      <td>5.666667</td>\n",
       "      <td>5.666667</td>\n",
       "      <td>1.0</td>\n",
       "      <td>0.0</td>\n",
       "    </tr>\n",
       "    <tr>\n",
       "      <th>3</th>\n",
       "      <td>7.5</td>\n",
       "      <td>40000000</td>\n",
       "      <td>95001343</td>\n",
       "      <td>128</td>\n",
       "      <td>71006</td>\n",
       "      <td>7.500000</td>\n",
       "      <td>6.740000</td>\n",
       "      <td>6.630000</td>\n",
       "      <td>1.0</td>\n",
       "      <td>0.0</td>\n",
       "    </tr>\n",
       "    <tr>\n",
       "      <th>4</th>\n",
       "      <td>5.8</td>\n",
       "      <td>13000000</td>\n",
       "      <td>16574731</td>\n",
       "      <td>93</td>\n",
       "      <td>28791</td>\n",
       "      <td>6.440000</td>\n",
       "      <td>5.800000</td>\n",
       "      <td>5.800000</td>\n",
       "      <td>1.0</td>\n",
       "      <td>0.0</td>\n",
       "    </tr>\n",
       "  </tbody>\n",
       "</table>\n",
       "</div>"
      ],
      "text/plain": [
       "   movie score    budget     gross  runtime   votes  star avg score  \\\n",
       "0          7.1  30000000  31743332       79  117268        6.864286   \n",
       "1          6.8  35000000  81159365      123  201705        6.875000   \n",
       "2          5.0   1500000    779820      102   11945        5.900000   \n",
       "3          7.5  40000000  95001343      128   71006        7.500000   \n",
       "4          5.8  13000000  16574731       93   28791        6.440000   \n",
       "\n",
       "   director avg score  writer avg score  Total Nominations  Total Awards  \n",
       "0            7.100000          7.100000                2.0           0.0  \n",
       "1            5.957143          6.200000                1.0           0.0  \n",
       "2            5.666667          5.666667                1.0           0.0  \n",
       "3            6.740000          6.630000                1.0           0.0  \n",
       "4            5.800000          5.800000                1.0           0.0  "
      ]
     },
     "execution_count": 154,
     "metadata": {},
     "output_type": "execute_result"
    }
   ],
   "source": [
    "# Use Pandas get_dummies to convert categorical data\n",
    "\n",
    "### BEGIN SOLUTION\n",
    "movies = pd.get_dummies(clean)\n",
    "movies.head()\n",
    "### END SOLUTION"
   ]
  },
  {
   "cell_type": "code",
   "execution_count": 155,
   "metadata": {},
   "outputs": [
    {
     "name": "stdout",
     "output_type": "stream",
     "text": [
      "(6820, 9) (6820, 1)\n"
     ]
    }
   ],
   "source": [
    "# Assign X (data) and y (target)\n",
    "\n",
    "### BEGIN SOLUTION\n",
    "X = movies.loc[:, movies.columns != 'movie score']\n",
    "y = movies[\"movie score\"].values.reshape(-1, 1)\n",
    "print(X.shape, y.shape)\n",
    "### END SOLUTION"
   ]
  },
  {
   "cell_type": "code",
   "execution_count": 156,
   "metadata": {},
   "outputs": [],
   "source": [
    "# Split the data into training and testing\n",
    "\n",
    "### BEGIN SOLUTION\n",
    "from sklearn.model_selection import train_test_split\n",
    "\n",
    "X_train, X_test, y_train, y_test = train_test_split(X, y, random_state=42)\n",
    "### END SOLUTION"
   ]
  },
  {
   "cell_type": "code",
   "execution_count": 157,
   "metadata": {},
   "outputs": [],
   "source": [
    "from sklearn.preprocessing import StandardScaler\n",
    "\n",
    "# Create a StandardScater model and fit it to the training data\n",
    "\n",
    "### BEGIN SOLUTION\n",
    "X_scaler = StandardScaler().fit(X_train)\n",
    "y_scaler = StandardScaler().fit(y_train)\n",
    "### END SOLUTION"
   ]
  },
  {
   "cell_type": "code",
   "execution_count": 158,
   "metadata": {},
   "outputs": [],
   "source": [
    "# Transform the training and testing data using the X_scaler and y_scaler models\n",
    "\n",
    "### BEGIN SOLUTION\n",
    "X_train_scaled = X_scaler.transform(X_train)\n",
    "X_test_scaled = X_scaler.transform(X_test)\n",
    "y_train_scaled = y_scaler.transform(y_train)\n",
    "y_test_scaled = y_scaler.transform(y_test)\n",
    "### END SOLUTION"
   ]
  },
  {
   "cell_type": "code",
   "execution_count": 159,
   "metadata": {},
   "outputs": [
    {
     "data": {
      "text/plain": [
       "LinearRegression(copy_X=True, fit_intercept=True, n_jobs=None, normalize=False)"
      ]
     },
     "execution_count": 159,
     "metadata": {},
     "output_type": "execute_result"
    }
   ],
   "source": [
    "# Create a LinearRegression model and fit it to the scaled training data\n",
    "\n",
    "### BEGIN SOLUTION\n",
    "from sklearn.linear_model import LinearRegression\n",
    "model = LinearRegression()\n",
    "model.fit(X_train_scaled, y_train_scaled)\n",
    "### END SOLUTION"
   ]
  },
  {
   "cell_type": "code",
   "execution_count": 160,
   "metadata": {},
   "outputs": [
    {
     "data": {
      "image/png": "[encoded data removed]",
      "text/plain": [
       "<Figure size 432x288 with 1 Axes>"
      ]
     },
     "metadata": {
      "needs_background": "light"
     },
     "output_type": "display_data"
    }
   ],
   "source": [
    "# Make predictions using a fitted model\n",
    "# Plot the difference between the model predicted values and actual y values, versus the model predicted values\n",
    "# Hint: You can predict values of X training and testing data using the model.predict() method on a fitted model\n",
    "\n",
    "### BEGIN SOLUTION\n",
    "predictions = model.predict(X_test_scaled)\n",
    "model.fit(X_train_scaled, y_train_scaled)\n",
    "plt.scatter(model.predict(X_train_scaled), model.predict(X_train_scaled) - y_train_scaled, c=\"blue\", label=\"Training Data\")\n",
    "plt.scatter(model.predict(X_test_scaled), model.predict(X_test_scaled) - y_test_scaled, c=\"orange\", label=\"Testing Data\")\n",
    "plt.legend()\n",
    "plt.hlines(y=0, xmin=y_test_scaled.min(), xmax=y_test_scaled.max())\n",
    "plt.title(\"Residual Plot\")\n",
    "plt.show()\n",
    "### END SOLUTION"
   ]
  },
  {
   "cell_type": "code",
   "execution_count": 161,
   "metadata": {},
   "outputs": [
    {
     "name": "stdout",
     "output_type": "stream",
     "text": [
      "MSE: 0.1585499471784876, R2: 0.8481151773297788\n"
     ]
    }
   ],
   "source": [
    "# Used X_test_scaled, y_test_scaled, and model.predict(X_test_scaled) to calculate MSE and R2\n",
    "\n",
    "### BEGIN SOLUTION\n",
    "from sklearn.metrics import mean_squared_error\n",
    "\n",
    "MSE = mean_squared_error(y_test_scaled, predictions)\n",
    "r2 = model.score(X_test_scaled, y_test_scaled)\n",
    "### END SOLUTION\n",
    "\n",
    "print(f\"MSE: {MSE}, R2: {r2}\")"
   ]
  },
  {
   "cell_type": "code",
   "execution_count": 162,
   "metadata": {},
   "outputs": [
    {
     "name": "stdout",
     "output_type": "stream",
     "text": [
      "MSE: 0.15990709869081993, R2: 0.8468150777683758\n"
     ]
    }
   ],
   "source": [
    "# LASSO model\n",
    "# Note: Use an alpha of .01 when creating the model for this activity\n",
    "from sklearn.linear_model import Lasso\n",
    "\n",
    "### BEGIN SOLUTION\n",
    "lasso = Lasso(alpha=.01).fit(X_train_scaled, y_train_scaled)\n",
    "\n",
    "predictions = lasso.predict(X_test_scaled)\n",
    "\n",
    "MSE = mean_squared_error(y_test_scaled, predictions)\n",
    "r2 = lasso.score(X_test_scaled, y_test_scaled)\n",
    "### END SOLUTION\n",
    "\n",
    "print(f\"MSE: {MSE}, R2: {r2}\")"
   ]
  },
  {
   "cell_type": "code",
   "execution_count": 163,
   "metadata": {},
   "outputs": [
    {
     "name": "stdout",
     "output_type": "stream",
     "text": [
      "MSE: 0.15854994857357055, R2: 0.8481151759933424\n"
     ]
    }
   ],
   "source": [
    "# Ridge model\n",
    "# Note: Use an alpha of .01 when creating the model for this activity\n",
    "from sklearn.linear_model import Ridge\n",
    "\n",
    "### BEGIN SOLUTION\n",
    "ridge = Ridge(alpha=.01).fit(X_train_scaled, y_train_scaled)\n",
    "\n",
    "predictions = ridge.predict(X_test_scaled)\n",
    "\n",
    "MSE = mean_squared_error(y_test_scaled, predictions)\n",
    "r2 = ridge.score(X_test_scaled, y_test_scaled)\n",
    "### END SOLUTION\n",
    "\n",
    "print(f\"MSE: {MSE}, R2: {r2}\")"
   ]
  },
  {
   "cell_type": "code",
   "execution_count": 164,
   "metadata": {},
   "outputs": [
    {
     "name": "stdout",
     "output_type": "stream",
     "text": [
      "MSE: 0.15913229304073684, R2: 0.8475573121296038\n"
     ]
    }
   ],
   "source": [
    "# ElasticNet model\n",
    "# Note: Use an alpha of .01 when creating the model for this activity\n",
    "from sklearn.linear_model import ElasticNet\n",
    "\n",
    "### BEGIN SOLUTION\n",
    "elasticnet = ElasticNet(alpha=.01).fit(X_train_scaled, y_train_scaled)\n",
    "\n",
    "predictions = elasticnet.predict(X_test_scaled)\n",
    "\n",
    "MSE = mean_squared_error(y_test_scaled, predictions)\n",
    "r2 = elasticnet.score(X_test_scaled, y_test_scaled)\n",
    "### END SOLUTION\n",
    "\n",
    "print(f\"MSE: {MSE}, R2: {r2}\")"
   ]
  },
  {
   "cell_type": "code",
   "execution_count": null,
   "metadata": {},
   "outputs": [],
   "source": []
  }
 ],
 "metadata": {
  "kernelspec": {
   "display_name": "Python 3",
   "language": "python",
   "name": "python3"
  },
  "language_info": {
   "codemirror_mode": {
    "name": "ipython",
    "version": 3
   },
   "file_extension": ".py",
   "mimetype": "text/x-python",
   "name": "python",
   "nbconvert_exporter": "python",
   "pygments_lexer": "ipython3",
   "version": "3.7.5"
  }
 },
 "nbformat": 4,
 "nbformat_minor": 4
}
