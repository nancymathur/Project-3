{
 "cells": [
  {
   "cell_type": "code",
   "execution_count": 1,
   "metadata": {},
   "outputs": [],
   "source": [
    "# Set the seed value for the notebook so the results are reproducible\n",
    "from numpy.random import seed\n",
    "seed(1)"
   ]
  },
  {
   "cell_type": "code",
   "execution_count": 2,
   "metadata": {
    "slideshow": {
     "slide_type": "subslide"
    }
   },
   "outputs": [],
   "source": [
    "import numpy as np\n",
    "import pandas as pd\n"
   ]
  },
  {
   "cell_type": "markdown",
   "metadata": {
    "slideshow": {
     "slide_type": "subslide"
    }
   },
   "source": [
    "## Data Pre-Processing"
   ]
  },
  {
   "cell_type": "code",
   "execution_count": 3,
   "metadata": {},
   "outputs": [],
   "source": [
    "film = pd.read_csv('csv/clean.csv')\n",
    "film = film.drop('Unnamed: 0', axis = 1)\n",
    "#film = film.drop('rating avg score', axis = 1)\n",
    "#film = film.drop('country avg score', axis = 1)\n",
    "#film = film.drop('Total Awards', axis = 1)\n",
    "#film = film.drop('gross', axis = 1)\n",
    "#film = film.drop('runtime', axis = 1)\n",
    "#film = film.drop('genre avg score', axis = 1)\n",
    "#film = film.drop('Total Nominations', axis = 1)"
   ]
  },
  {
   "cell_type": "code",
   "execution_count": 4,
   "metadata": {},
   "outputs": [],
   "source": [
    "size_bins = [0, 4, 6, 7, 8, 10]\n",
    "size_group_names = [\"<4\", \"4-6\", \"6-7\", \"7-8\", \"8-10\"]"
   ]
  },
  {
   "cell_type": "code",
   "execution_count": 5,
   "metadata": {},
   "outputs": [],
   "source": [
    "film['movie scores'] = pd.cut(film['movie score'],size_bins, labels = size_group_names)\n",
    "del film['movie score']"
   ]
  },
  {
   "cell_type": "code",
   "execution_count": 6,
   "metadata": {},
   "outputs": [],
   "source": [
    "#film.loc[film['movie scores'] == '8-10']"
   ]
  },
  {
   "cell_type": "code",
   "execution_count": 8,
   "metadata": {
    "slideshow": {
     "slide_type": "fragment"
    }
   },
   "outputs": [
    {
     "name": "stdout",
     "output_type": "stream",
     "text": [
      "(6820, 13) (6820,)\n"
     ]
    }
   ],
   "source": [
    "X = film.drop(\"movie scores\", axis=1)\n",
    "y = film[\"movie scores\"]\n",
    "print(X.shape, y.shape)\n",
    "\n",
    "from sklearn.model_selection import train_test_split\n",
    "from sklearn.preprocessing import LabelEncoder, MinMaxScaler\n",
    "from tensorflow.keras.utils import to_categorical\n",
    "\n",
    "X_train, X_test, y_train, y_test = train_test_split(\n",
    "    X, y, random_state=1)\n",
    "X_scaler = MinMaxScaler().fit(X_train)\n",
    "X_train_scaled = X_scaler.transform(X_train)\n",
    "X_test_scaled = X_scaler.transform(X_test)\n",
    "\n",
    "\n",
    "# Step 1: Label-encode data set\n",
    "label_encoder = LabelEncoder()\n",
    "label_encoder.fit(y_train)\n",
    "encoded_y_train = label_encoder.transform(y_train)\n",
    "encoded_y_test = label_encoder.transform(y_test)\n",
    "\n",
    "# Step 2: Convert encoded labels to one-hot-encoding\n",
    "y_train_categorical = to_categorical(encoded_y_train)\n",
    "y_test_categorical = to_categorical(encoded_y_test)"
   ]
  },
  {
   "cell_type": "code",
   "execution_count": null,
   "metadata": {},
   "outputs": [],
   "source": []
  },
  {
   "cell_type": "code",
   "execution_count": null,
   "metadata": {},
   "outputs": [],
   "source": []
  },
  {
   "cell_type": "markdown",
   "metadata": {},
   "source": [
    "# Create a Deep Learning Model"
   ]
  },
  {
   "cell_type": "code",
   "execution_count": 9,
   "metadata": {},
   "outputs": [],
   "source": [
    "from tensorflow.keras.models import Sequential\n",
    "from tensorflow.keras.layers import Dense\n",
    "\n",
    "model = Sequential()\n",
    "model.add(Dense(units=20, activation='relu', input_dim=13))\n",
    "model.add(Dense(units=20, activation='relu'))\n",
    "model.add(Dense(units=5, activation='softmax'))"
   ]
  },
  {
   "cell_type": "code",
   "execution_count": 10,
   "metadata": {},
   "outputs": [
    {
     "name": "stdout",
     "output_type": "stream",
     "text": [
      "Train on 5115 samples\n",
      "Epoch 1/100\n",
      "5115/5115 - 1s - loss: 1.3656 - accuracy: 0.3934\n",
      "Epoch 2/100\n",
      "5115/5115 - 0s - loss: 1.1935 - accuracy: 0.4637\n",
      "Epoch 3/100\n",
      "5115/5115 - 0s - loss: 1.0746 - accuracy: 0.5589\n",
      "Epoch 4/100\n",
      "5115/5115 - 0s - loss: 0.9580 - accuracy: 0.6190\n",
      "Epoch 5/100\n",
      "5115/5115 - 0s - loss: 0.8548 - accuracy: 0.6702\n",
      "Epoch 6/100\n",
      "5115/5115 - 0s - loss: 0.7693 - accuracy: 0.7021\n",
      "Epoch 7/100\n",
      "5115/5115 - 0s - loss: 0.7119 - accuracy: 0.7206\n",
      "Epoch 8/100\n",
      "5115/5115 - 0s - loss: 0.6649 - accuracy: 0.7425\n",
      "Epoch 9/100\n",
      "5115/5115 - 0s - loss: 0.6318 - accuracy: 0.7548\n",
      "Epoch 10/100\n",
      "5115/5115 - 0s - loss: 0.6052 - accuracy: 0.7603\n",
      "Epoch 11/100\n",
      "5115/5115 - 0s - loss: 0.5869 - accuracy: 0.7746\n",
      "Epoch 12/100\n",
      "5115/5115 - 0s - loss: 0.5724 - accuracy: 0.7718\n",
      "Epoch 13/100\n",
      "5115/5115 - 0s - loss: 0.5616 - accuracy: 0.7785\n",
      "Epoch 14/100\n",
      "5115/5115 - 0s - loss: 0.5524 - accuracy: 0.7787\n",
      "Epoch 15/100\n",
      "5115/5115 - 0s - loss: 0.5440 - accuracy: 0.7808\n",
      "Epoch 16/100\n",
      "5115/5115 - 0s - loss: 0.5408 - accuracy: 0.7810\n",
      "Epoch 17/100\n",
      "5115/5115 - 0s - loss: 0.5315 - accuracy: 0.7857\n",
      "Epoch 18/100\n",
      "5115/5115 - 0s - loss: 0.5341 - accuracy: 0.7814\n",
      "Epoch 19/100\n",
      "5115/5115 - 0s - loss: 0.5260 - accuracy: 0.7867\n",
      "Epoch 20/100\n",
      "5115/5115 - 0s - loss: 0.5213 - accuracy: 0.7887\n",
      "Epoch 21/100\n",
      "5115/5115 - 0s - loss: 0.5172 - accuracy: 0.7912\n",
      "Epoch 22/100\n",
      "5115/5115 - 0s - loss: 0.5172 - accuracy: 0.7873\n",
      "Epoch 23/100\n",
      "5115/5115 - 0s - loss: 0.5133 - accuracy: 0.7926\n",
      "Epoch 24/100\n",
      "5115/5115 - 0s - loss: 0.5142 - accuracy: 0.7934\n",
      "Epoch 25/100\n",
      "5115/5115 - 0s - loss: 0.5112 - accuracy: 0.7892\n",
      "Epoch 26/100\n",
      "5115/5115 - 0s - loss: 0.5126 - accuracy: 0.7932\n",
      "Epoch 27/100\n",
      "5115/5115 - 0s - loss: 0.5090 - accuracy: 0.7906\n",
      "Epoch 28/100\n",
      "5115/5115 - 0s - loss: 0.5066 - accuracy: 0.7930\n",
      "Epoch 29/100\n",
      "5115/5115 - 0s - loss: 0.5100 - accuracy: 0.7906\n",
      "Epoch 30/100\n",
      "5115/5115 - 0s - loss: 0.5037 - accuracy: 0.7945\n",
      "Epoch 31/100\n",
      "5115/5115 - 0s - loss: 0.5047 - accuracy: 0.7928\n",
      "Epoch 32/100\n",
      "5115/5115 - 0s - loss: 0.5025 - accuracy: 0.7973\n",
      "Epoch 33/100\n",
      "5115/5115 - 0s - loss: 0.5006 - accuracy: 0.7920\n",
      "Epoch 34/100\n",
      "5115/5115 - 0s - loss: 0.5044 - accuracy: 0.7916\n",
      "Epoch 35/100\n",
      "5115/5115 - 0s - loss: 0.5001 - accuracy: 0.7953\n",
      "Epoch 36/100\n",
      "5115/5115 - 0s - loss: 0.5028 - accuracy: 0.7953\n",
      "Epoch 37/100\n",
      "5115/5115 - 0s - loss: 0.5046 - accuracy: 0.7916\n",
      "Epoch 38/100\n",
      "5115/5115 - 0s - loss: 0.4989 - accuracy: 0.7926\n",
      "Epoch 39/100\n",
      "5115/5115 - 0s - loss: 0.5001 - accuracy: 0.7973\n",
      "Epoch 40/100\n",
      "5115/5115 - 0s - loss: 0.5014 - accuracy: 0.7920\n",
      "Epoch 41/100\n",
      "5115/5115 - 0s - loss: 0.4992 - accuracy: 0.7916\n",
      "Epoch 42/100\n",
      "5115/5115 - 0s - loss: 0.4998 - accuracy: 0.7961\n",
      "Epoch 43/100\n",
      "5115/5115 - 0s - loss: 0.4965 - accuracy: 0.7959\n",
      "Epoch 44/100\n",
      "5115/5115 - 0s - loss: 0.4986 - accuracy: 0.7965\n",
      "Epoch 45/100\n",
      "5115/5115 - 0s - loss: 0.4975 - accuracy: 0.7945\n",
      "Epoch 46/100\n",
      "5115/5115 - 0s - loss: 0.4982 - accuracy: 0.7935\n",
      "Epoch 47/100\n",
      "5115/5115 - 0s - loss: 0.4990 - accuracy: 0.7928\n",
      "Epoch 48/100\n",
      "5115/5115 - 0s - loss: 0.4976 - accuracy: 0.7961\n",
      "Epoch 49/100\n",
      "5115/5115 - 0s - loss: 0.4966 - accuracy: 0.7906\n",
      "Epoch 50/100\n",
      "5115/5115 - 0s - loss: 0.4976 - accuracy: 0.7934\n",
      "Epoch 51/100\n",
      "5115/5115 - 0s - loss: 0.4944 - accuracy: 0.8002\n",
      "Epoch 52/100\n",
      "5115/5115 - 0s - loss: 0.4998 - accuracy: 0.7904\n",
      "Epoch 53/100\n",
      "5115/5115 - 0s - loss: 0.4969 - accuracy: 0.7957\n",
      "Epoch 54/100\n",
      "5115/5115 - 0s - loss: 0.4977 - accuracy: 0.7939\n",
      "Epoch 55/100\n",
      "5115/5115 - 0s - loss: 0.4995 - accuracy: 0.7953\n",
      "Epoch 56/100\n",
      "5115/5115 - 0s - loss: 0.4960 - accuracy: 0.7969\n",
      "Epoch 57/100\n",
      "5115/5115 - 0s - loss: 0.4976 - accuracy: 0.7943\n",
      "Epoch 58/100\n",
      "5115/5115 - 0s - loss: 0.4931 - accuracy: 0.7973\n",
      "Epoch 59/100\n",
      "5115/5115 - 0s - loss: 0.4944 - accuracy: 0.7945\n",
      "Epoch 60/100\n",
      "5115/5115 - 0s - loss: 0.4921 - accuracy: 0.7965\n",
      "Epoch 61/100\n",
      "5115/5115 - 0s - loss: 0.4919 - accuracy: 0.7953\n",
      "Epoch 62/100\n",
      "5115/5115 - 0s - loss: 0.4975 - accuracy: 0.7980\n",
      "Epoch 63/100\n",
      "5115/5115 - 0s - loss: 0.4941 - accuracy: 0.7951\n",
      "Epoch 64/100\n",
      "5115/5115 - 0s - loss: 0.4963 - accuracy: 0.7947\n",
      "Epoch 65/100\n",
      "5115/5115 - 0s - loss: 0.4937 - accuracy: 0.7957\n",
      "Epoch 66/100\n",
      "5115/5115 - 0s - loss: 0.4938 - accuracy: 0.7953\n",
      "Epoch 67/100\n",
      "5115/5115 - 0s - loss: 0.4908 - accuracy: 0.7988\n",
      "Epoch 68/100\n",
      "5115/5115 - 0s - loss: 0.4924 - accuracy: 0.7990\n",
      "Epoch 69/100\n",
      "5115/5115 - 0s - loss: 0.4928 - accuracy: 0.7965\n",
      "Epoch 70/100\n",
      "5115/5115 - 0s - loss: 0.4939 - accuracy: 0.7939\n",
      "Epoch 71/100\n",
      "5115/5115 - 0s - loss: 0.4911 - accuracy: 0.8016\n",
      "Epoch 72/100\n",
      "5115/5115 - 0s - loss: 0.4922 - accuracy: 0.7957\n",
      "Epoch 73/100\n",
      "5115/5115 - 0s - loss: 0.4940 - accuracy: 0.7934\n",
      "Epoch 74/100\n",
      "5115/5115 - 0s - loss: 0.4912 - accuracy: 0.7961\n",
      "Epoch 75/100\n",
      "5115/5115 - 0s - loss: 0.4921 - accuracy: 0.7965\n",
      "Epoch 76/100\n",
      "5115/5115 - 0s - loss: 0.4891 - accuracy: 0.7978\n",
      "Epoch 77/100\n",
      "5115/5115 - 0s - loss: 0.4904 - accuracy: 0.7957\n",
      "Epoch 78/100\n",
      "5115/5115 - 0s - loss: 0.4913 - accuracy: 0.7977\n",
      "Epoch 79/100\n",
      "5115/5115 - 0s - loss: 0.4917 - accuracy: 0.7971\n",
      "Epoch 80/100\n",
      "5115/5115 - 0s - loss: 0.4896 - accuracy: 0.7969\n",
      "Epoch 81/100\n",
      "5115/5115 - 0s - loss: 0.4930 - accuracy: 0.7957\n",
      "Epoch 82/100\n",
      "5115/5115 - 0s - loss: 0.4911 - accuracy: 0.7955\n",
      "Epoch 83/100\n",
      "5115/5115 - 0s - loss: 0.4897 - accuracy: 0.7982\n",
      "Epoch 84/100\n",
      "5115/5115 - 0s - loss: 0.4909 - accuracy: 0.7930\n",
      "Epoch 85/100\n",
      "5115/5115 - 0s - loss: 0.4917 - accuracy: 0.7916\n",
      "Epoch 86/100\n",
      "5115/5115 - 0s - loss: 0.4874 - accuracy: 0.7982\n",
      "Epoch 87/100\n",
      "5115/5115 - 0s - loss: 0.4897 - accuracy: 0.7998\n",
      "Epoch 88/100\n",
      "5115/5115 - 0s - loss: 0.4885 - accuracy: 0.8008\n",
      "Epoch 89/100\n",
      "5115/5115 - 0s - loss: 0.4901 - accuracy: 0.7934\n",
      "Epoch 90/100\n",
      "5115/5115 - 0s - loss: 0.4852 - accuracy: 0.7949\n",
      "Epoch 91/100\n",
      "5115/5115 - 0s - loss: 0.4885 - accuracy: 0.7965\n",
      "Epoch 92/100\n",
      "5115/5115 - 0s - loss: 0.4922 - accuracy: 0.7955\n",
      "Epoch 93/100\n",
      "5115/5115 - 0s - loss: 0.4882 - accuracy: 0.7961\n",
      "Epoch 94/100\n",
      "5115/5115 - 0s - loss: 0.4862 - accuracy: 0.7963\n",
      "Epoch 95/100\n",
      "5115/5115 - 0s - loss: 0.4872 - accuracy: 0.7988\n",
      "Epoch 96/100\n",
      "5115/5115 - 0s - loss: 0.4880 - accuracy: 0.7953\n",
      "Epoch 97/100\n",
      "5115/5115 - 0s - loss: 0.4879 - accuracy: 0.7994\n",
      "Epoch 98/100\n",
      "5115/5115 - 0s - loss: 0.4881 - accuracy: 0.7969\n",
      "Epoch 99/100\n",
      "5115/5115 - 0s - loss: 0.4862 - accuracy: 0.8008\n",
      "Epoch 100/100\n",
      "5115/5115 - 0s - loss: 0.4874 - accuracy: 0.7982\n"
     ]
    },
    {
     "data": {
      "text/plain": [
       "<tensorflow.python.keras.callbacks.History at 0x1a4b4f7690>"
      ]
     },
     "execution_count": 10,
     "metadata": {},
     "output_type": "execute_result"
    }
   ],
   "source": [
    "model.compile(optimizer='adam',\n",
    "              loss='categorical_crossentropy',\n",
    "              metrics=['accuracy'])\n",
    "model.fit(\n",
    "    X_train_scaled,\n",
    "    y_train_categorical,\n",
    "    epochs=100,\n",
    "    shuffle=True,\n",
    "    verbose=2\n",
    ")"
   ]
  },
  {
   "cell_type": "markdown",
   "metadata": {},
   "source": [
    "## Quantify our Trained Model"
   ]
  },
  {
   "cell_type": "code",
   "execution_count": 11,
   "metadata": {},
   "outputs": [
    {
     "name": "stdout",
     "output_type": "stream",
     "text": [
      "1705/1 - 0s - loss: 0.8962 - accuracy: 0.7654\n",
      "Normal Neural Network - Loss: 0.5257186103776054, Accuracy: 0.7653958797454834\n"
     ]
    }
   ],
   "source": [
    "model_loss, model_accuracy = model.evaluate(\n",
    "    X_test_scaled, y_test_categorical, verbose=2)\n",
    "print(\n",
    "    f\"Normal Neural Network - Loss: {model_loss}, Accuracy: {model_accuracy}\")"
   ]
  },
  {
   "cell_type": "markdown",
   "metadata": {
    "slideshow": {
     "slide_type": "subslide"
    }
   },
   "source": [
    "# Saving a Trained Model\n",
    "We can save our trained models using the HDF5 binary format with the extension `.h5`"
   ]
  },
  {
   "cell_type": "code",
   "execution_count": 12,
   "metadata": {},
   "outputs": [],
   "source": [
    "# Save the model\n",
    "model.save(\"film_model_trained.h5\")"
   ]
  },
  {
   "cell_type": "markdown",
   "metadata": {},
   "source": [
    "# Loading a Model"
   ]
  },
  {
   "cell_type": "code",
   "execution_count": 13,
   "metadata": {},
   "outputs": [],
   "source": [
    "# Load the model\n",
    "from tensorflow.keras.models import load_model\n",
    "film_model = load_model(\"film_model_trained.h5\")"
   ]
  },
  {
   "cell_type": "markdown",
   "metadata": {},
   "source": [
    "## Evaluating the loaded model"
   ]
  },
  {
   "cell_type": "code",
   "execution_count": 14,
   "metadata": {},
   "outputs": [
    {
     "name": "stdout",
     "output_type": "stream",
     "text": [
      "1705/1 - 0s - loss: 0.8962 - accuracy: 0.7654\n",
      "Normal Neural Network - Loss: 0.5257186103776054, Accuracy: 0.7653958797454834\n"
     ]
    }
   ],
   "source": [
    "model_loss, model_accuracy = film_model.evaluate(\n",
    "    X_test_scaled, y_test_categorical, verbose=2)\n",
    "print(\n",
    "    f\"Normal Neural Network - Loss: {model_loss}, Accuracy: {model_accuracy}\")"
   ]
  },
  {
   "cell_type": "markdown",
   "metadata": {},
   "source": [
    "# Predictions"
   ]
  },
  {
   "cell_type": "code",
   "execution_count": 15,
   "metadata": {},
   "outputs": [],
   "source": [
    "encoded_predictions = model.predict_classes(X_test_scaled[:5])\n",
    "prediction_labels = label_encoder.inverse_transform(encoded_predictions)"
   ]
  },
  {
   "cell_type": "code",
   "execution_count": 16,
   "metadata": {},
   "outputs": [
    {
     "name": "stdout",
     "output_type": "stream",
     "text": [
      "Predicted classes: ['6-7' '4-6' '7-8' '6-7' '4-6']\n",
      "Actual Labels: ['6-7', '<4', '7-8', '6-7', '4-6']\n"
     ]
    }
   ],
   "source": [
    "print(f\"Predicted classes: {prediction_labels}\")\n",
    "print(f\"Actual Labels: {list(y_test[:5])}\")"
   ]
  },
  {
   "cell_type": "code",
   "execution_count": 19,
   "metadata": {},
   "outputs": [],
   "source": [
    "parasite = np.array([[11000000,266000000, 132, 415741,  7.725, 7.775, 6.378, 5.778, 5, 7.345, 8.6, 9, 6]])"
   ]
  },
  {
   "cell_type": "code",
   "execution_count": 29,
   "metadata": {},
   "outputs": [],
   "source": [
    "par = model.predict_classes(parasite)\n",
    "pred = label_encoder.inverse_transform(par)"
   ]
  },
  {
   "cell_type": "code",
   "execution_count": 30,
   "metadata": {},
   "outputs": [
    {
     "name": "stdout",
     "output_type": "stream",
     "text": [
      "Predicted class: ['7-8']\n"
     ]
    }
   ],
   "source": [
    "print(f\"Predicted class: {pred}\")"
   ]
  },
  {
   "cell_type": "code",
   "execution_count": 31,
   "metadata": {},
   "outputs": [
    {
     "name": "stdout",
     "output_type": "stream",
     "text": [
      "Model: \"sequential\"\n",
      "_________________________________________________________________\n",
      "Layer (type)                 Output Shape              Param #   \n",
      "=================================================================\n",
      "dense (Dense)                (None, 20)                280       \n",
      "_________________________________________________________________\n",
      "dense_1 (Dense)              (None, 20)                420       \n",
      "_________________________________________________________________\n",
      "dense_2 (Dense)              (None, 5)                 105       \n",
      "=================================================================\n",
      "Total params: 805\n",
      "Trainable params: 805\n",
      "Non-trainable params: 0\n",
      "_________________________________________________________________\n"
     ]
    }
   ],
   "source": [
    "model.summary()"
   ]
  },
  {
   "cell_type": "code",
   "execution_count": null,
   "metadata": {},
   "outputs": [],
   "source": []
  },
  {
   "cell_type": "code",
   "execution_count": null,
   "metadata": {},
   "outputs": [],
   "source": []
  },
  {
   "cell_type": "code",
   "execution_count": null,
   "metadata": {},
   "outputs": [],
   "source": []
  }
 ],
 "metadata": {
  "kernelspec": {
   "display_name": "Python 3",
   "language": "python",
   "name": "python3"
  },
  "language_info": {
   "codemirror_mode": {
    "name": "ipython",
    "version": 3
   },
   "file_extension": ".py",
   "mimetype": "text/x-python",
   "name": "python",
   "nbconvert_exporter": "python",
   "pygments_lexer": "ipython3",
   "version": "3.7.5"
  },
  "varInspector": {
   "cols": {
    "lenName": 16,
    "lenType": 16,
    "lenVar": 40
   },
   "kernels_config": {
    "python": {
     "delete_cmd_postfix": "",
     "delete_cmd_prefix": "del ",
     "library": "var_list.py",
     "varRefreshCmd": "print(var_dic_list())"
    },
    "r": {
     "delete_cmd_postfix": ") ",
     "delete_cmd_prefix": "rm(",
     "library": "var_list.r",
     "varRefreshCmd": "cat(var_dic_list()) "
    }
   },
   "types_to_exclude": [
    "module",
    "function",
    "builtin_function_or_method",
    "instance",
    "_Feature"
   ],
   "window_display": false
  }
 },
 "nbformat": 4,
 "nbformat_minor": 4
}
