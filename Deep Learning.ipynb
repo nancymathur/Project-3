{
 "cells": [
  {
   "cell_type": "code",
   "execution_count": 2,
   "metadata": {},
   "outputs": [],
   "source": [
    "# Set the seed value for the notebook so the results are reproducible\n",
    "from numpy.random import seed\n",
    "seed(1)"
   ]
  },
  {
   "cell_type": "code",
   "execution_count": 3,
   "metadata": {
    "slideshow": {
     "slide_type": "subslide"
    }
   },
   "outputs": [],
   "source": [
    "import numpy as np\n",
    "import pandas as pd\n",
    "\n",
    "import warnings\n",
    "warnings.simplefilter('ignore', FutureWarning)"
   ]
  },
  {
   "cell_type": "markdown",
   "metadata": {
    "slideshow": {
     "slide_type": "subslide"
    }
   },
   "source": [
    "## Data Pre-Processing"
   ]
  },
  {
   "cell_type": "code",
   "execution_count": 4,
   "metadata": {},
   "outputs": [],
   "source": [
    "film = pd.read_csv('csv/clean.csv')\n",
    "film = film.drop('Unnamed: 0', axis = 1)\n"
   ]
  },
  {
   "cell_type": "code",
   "execution_count": 5,
   "metadata": {},
   "outputs": [],
   "source": [
    "size_bins = [0, 2, 5, 7, 10]\n",
    "size_group_names = [\"Bad (<2)\", \"Not Great (2-5)\", \"Good (5-7)\", \"Great (7-10)\"]"
   ]
  },
  {
   "cell_type": "code",
   "execution_count": 6,
   "metadata": {},
   "outputs": [],
   "source": [
    "film['movie scores'] = pd.cut(film['movie score'],size_bins, labels = size_group_names)\n",
    "del film['movie score']"
   ]
  },
  {
   "cell_type": "code",
   "execution_count": 7,
   "metadata": {
    "slideshow": {
     "slide_type": "fragment"
    }
   },
   "outputs": [
    {
     "name": "stdout",
     "output_type": "stream",
     "text": [
      "(6820, 13) (6820,)\n"
     ]
    }
   ],
   "source": [
    "X = film.drop(\"movie scores\", axis=1)\n",
    "y = film[\"movie scores\"]\n",
    "print(X.shape, y.shape)\n",
    "\n",
    "from sklearn.model_selection import train_test_split\n",
    "from sklearn.preprocessing import LabelEncoder, MinMaxScaler\n",
    "from tensorflow.keras.utils import to_categorical\n",
    "\n",
    "X_train, X_test, y_train, y_test = train_test_split(\n",
    "    X, y, random_state=1)\n",
    "X_scaler = MinMaxScaler().fit(X_train)\n",
    "X_train_scaled = X_scaler.transform(X_train)\n",
    "X_test_scaled = X_scaler.transform(X_test)\n",
    "\n",
    "\n",
    "# Step 1: Label-encode data set\n",
    "label_encoder = LabelEncoder()\n",
    "label_encoder.fit(y_train)\n",
    "encoded_y_train = label_encoder.transform(y_train)\n",
    "encoded_y_test = label_encoder.transform(y_test)\n",
    "\n",
    "# Step 2: Convert encoded labels to one-hot-encoding\n",
    "y_train_categorical = to_categorical(encoded_y_train)\n",
    "y_test_categorical = to_categorical(encoded_y_test)"
   ]
  },
  {
   "cell_type": "code",
   "execution_count": null,
   "metadata": {},
   "outputs": [],
   "source": []
  },
  {
   "cell_type": "code",
   "execution_count": 8,
   "metadata": {},
   "outputs": [
    {
     "data": {
      "text/html": [
       "<div>\n",
       "<style scoped>\n",
       "    .dataframe tbody tr th:only-of-type {\n",
       "        vertical-align: middle;\n",
       "    }\n",
       "\n",
       "    .dataframe tbody tr th {\n",
       "        vertical-align: top;\n",
       "    }\n",
       "\n",
       "    .dataframe thead th {\n",
       "        text-align: right;\n",
       "    }\n",
       "</style>\n",
       "<table border=\"1\" class=\"dataframe\">\n",
       "  <thead>\n",
       "    <tr style=\"text-align: right;\">\n",
       "      <th></th>\n",
       "      <th>budget</th>\n",
       "      <th>gross</th>\n",
       "      <th>runtime</th>\n",
       "      <th>votes</th>\n",
       "      <th>star avg score</th>\n",
       "      <th>director avg score</th>\n",
       "      <th>writer avg score</th>\n",
       "      <th>genre avg score</th>\n",
       "      <th>rating avg score</th>\n",
       "      <th>country avg score</th>\n",
       "      <th>company avg score</th>\n",
       "      <th>Total Nominations</th>\n",
       "      <th>Total Awards</th>\n",
       "      <th>movie scores</th>\n",
       "    </tr>\n",
       "  </thead>\n",
       "  <tbody>\n",
       "    <tr>\n",
       "      <th>0</th>\n",
       "      <td>30000000</td>\n",
       "      <td>31743332</td>\n",
       "      <td>79</td>\n",
       "      <td>117268</td>\n",
       "      <td>6.864286</td>\n",
       "      <td>7.100000</td>\n",
       "      <td>7.100000</td>\n",
       "      <td>6.746931</td>\n",
       "      <td>6.254035</td>\n",
       "      <td>6.216790</td>\n",
       "      <td>6.839474</td>\n",
       "      <td>2.0</td>\n",
       "      <td>0.0</td>\n",
       "      <td>Great (7-10)</td>\n",
       "    </tr>\n",
       "    <tr>\n",
       "      <th>1</th>\n",
       "      <td>35000000</td>\n",
       "      <td>81159365</td>\n",
       "      <td>123</td>\n",
       "      <td>201705</td>\n",
       "      <td>6.875000</td>\n",
       "      <td>5.957143</td>\n",
       "      <td>6.200000</td>\n",
       "      <td>6.756322</td>\n",
       "      <td>6.254035</td>\n",
       "      <td>6.216790</td>\n",
       "      <td>6.315741</td>\n",
       "      <td>1.0</td>\n",
       "      <td>0.0</td>\n",
       "      <td>Good (5-7)</td>\n",
       "    </tr>\n",
       "    <tr>\n",
       "      <th>2</th>\n",
       "      <td>1500000</td>\n",
       "      <td>779820</td>\n",
       "      <td>102</td>\n",
       "      <td>11945</td>\n",
       "      <td>5.900000</td>\n",
       "      <td>5.666667</td>\n",
       "      <td>5.666667</td>\n",
       "      <td>5.687004</td>\n",
       "      <td>6.453213</td>\n",
       "      <td>6.660602</td>\n",
       "      <td>5.000000</td>\n",
       "      <td>1.0</td>\n",
       "      <td>0.0</td>\n",
       "      <td>Not Great (2-5)</td>\n",
       "    </tr>\n",
       "    <tr>\n",
       "      <th>3</th>\n",
       "      <td>40000000</td>\n",
       "      <td>95001343</td>\n",
       "      <td>128</td>\n",
       "      <td>71006</td>\n",
       "      <td>7.500000</td>\n",
       "      <td>6.740000</td>\n",
       "      <td>6.630000</td>\n",
       "      <td>7.040390</td>\n",
       "      <td>6.254035</td>\n",
       "      <td>6.216790</td>\n",
       "      <td>6.384354</td>\n",
       "      <td>1.0</td>\n",
       "      <td>0.0</td>\n",
       "      <td>Great (7-10)</td>\n",
       "    </tr>\n",
       "    <tr>\n",
       "      <th>4</th>\n",
       "      <td>13000000</td>\n",
       "      <td>16574731</td>\n",
       "      <td>93</td>\n",
       "      <td>28791</td>\n",
       "      <td>6.440000</td>\n",
       "      <td>5.800000</td>\n",
       "      <td>5.800000</td>\n",
       "      <td>6.715720</td>\n",
       "      <td>6.453213</td>\n",
       "      <td>6.216790</td>\n",
       "      <td>5.800000</td>\n",
       "      <td>1.0</td>\n",
       "      <td>0.0</td>\n",
       "      <td>Good (5-7)</td>\n",
       "    </tr>\n",
       "  </tbody>\n",
       "</table>\n",
       "</div>"
      ],
      "text/plain": [
       "     budget     gross  runtime   votes  star avg score  director avg score  \\\n",
       "0  30000000  31743332       79  117268        6.864286            7.100000   \n",
       "1  35000000  81159365      123  201705        6.875000            5.957143   \n",
       "2   1500000    779820      102   11945        5.900000            5.666667   \n",
       "3  40000000  95001343      128   71006        7.500000            6.740000   \n",
       "4  13000000  16574731       93   28791        6.440000            5.800000   \n",
       "\n",
       "   writer avg score  genre avg score  rating avg score  country avg score  \\\n",
       "0          7.100000         6.746931          6.254035           6.216790   \n",
       "1          6.200000         6.756322          6.254035           6.216790   \n",
       "2          5.666667         5.687004          6.453213           6.660602   \n",
       "3          6.630000         7.040390          6.254035           6.216790   \n",
       "4          5.800000         6.715720          6.453213           6.216790   \n",
       "\n",
       "   company avg score  Total Nominations  Total Awards     movie scores  \n",
       "0           6.839474                2.0           0.0     Great (7-10)  \n",
       "1           6.315741                1.0           0.0       Good (5-7)  \n",
       "2           5.000000                1.0           0.0  Not Great (2-5)  \n",
       "3           6.384354                1.0           0.0     Great (7-10)  \n",
       "4           5.800000                1.0           0.0       Good (5-7)  "
      ]
     },
     "execution_count": 8,
     "metadata": {},
     "output_type": "execute_result"
    }
   ],
   "source": [
    "film.head()"
   ]
  },
  {
   "cell_type": "markdown",
   "metadata": {},
   "source": [
    "# Create a Deep Learning Model"
   ]
  },
  {
   "cell_type": "code",
   "execution_count": 11,
   "metadata": {},
   "outputs": [],
   "source": [
    "from tensorflow.keras.models import Sequential\n",
    "from tensorflow.keras.layers import Dense\n",
    "\n",
    "model = Sequential()\n",
    "model.add(Dense(units=100, activation='relu', input_dim=13))\n",
    "model.add(Dense(units=100, activation='relu'))\n",
    "model.add(Dense(units=4, activation='softmax'))"
   ]
  },
  {
   "cell_type": "code",
   "execution_count": 22,
   "metadata": {},
   "outputs": [
    {
     "name": "stdout",
     "output_type": "stream",
     "text": [
      "Train on 5115 samples\n",
      "Epoch 1/60\n",
      "5115/5115 - 1s - loss: 0.3089 - accuracy: 0.8706\n",
      "Epoch 2/60\n",
      "5115/5115 - 1s - loss: 0.3096 - accuracy: 0.8712\n",
      "Epoch 3/60\n",
      "5115/5115 - 1s - loss: 0.3109 - accuracy: 0.8692\n",
      "Epoch 4/60\n",
      "5115/5115 - 1s - loss: 0.3090 - accuracy: 0.8723\n",
      "Epoch 5/60\n",
      "5115/5115 - 1s - loss: 0.3030 - accuracy: 0.8757\n",
      "Epoch 6/60\n",
      "5115/5115 - 1s - loss: 0.3104 - accuracy: 0.8719\n",
      "Epoch 7/60\n",
      "5115/5115 - 1s - loss: 0.3111 - accuracy: 0.8766\n",
      "Epoch 8/60\n",
      "5115/5115 - 1s - loss: 0.3101 - accuracy: 0.8702\n",
      "Epoch 9/60\n",
      "5115/5115 - 1s - loss: 0.3047 - accuracy: 0.8753\n",
      "Epoch 10/60\n",
      "5115/5115 - 1s - loss: 0.3050 - accuracy: 0.8768\n",
      "Epoch 11/60\n",
      "5115/5115 - 1s - loss: 0.3056 - accuracy: 0.8759\n",
      "Epoch 12/60\n",
      "5115/5115 - 1s - loss: 0.3029 - accuracy: 0.8759\n",
      "Epoch 13/60\n",
      "5115/5115 - 1s - loss: 0.3039 - accuracy: 0.8759\n",
      "Epoch 14/60\n",
      "5115/5115 - 1s - loss: 0.3026 - accuracy: 0.8786\n",
      "Epoch 15/60\n",
      "5115/5115 - 1s - loss: 0.3025 - accuracy: 0.8733\n",
      "Epoch 16/60\n",
      "5115/5115 - 1s - loss: 0.3022 - accuracy: 0.8778\n",
      "Epoch 17/60\n",
      "5115/5115 - 1s - loss: 0.3068 - accuracy: 0.8741\n",
      "Epoch 18/60\n",
      "5115/5115 - 1s - loss: 0.3009 - accuracy: 0.8788\n",
      "Epoch 19/60\n",
      "5115/5115 - 1s - loss: 0.2969 - accuracy: 0.8780\n",
      "Epoch 20/60\n",
      "5115/5115 - 1s - loss: 0.2964 - accuracy: 0.8768\n",
      "Epoch 21/60\n",
      "5115/5115 - 1s - loss: 0.2963 - accuracy: 0.8819\n",
      "Epoch 22/60\n",
      "5115/5115 - 1s - loss: 0.2991 - accuracy: 0.8768\n",
      "Epoch 23/60\n",
      "5115/5115 - 1s - loss: 0.2985 - accuracy: 0.8762\n",
      "Epoch 24/60\n",
      "5115/5115 - 1s - loss: 0.3003 - accuracy: 0.8759\n",
      "Epoch 25/60\n",
      "5115/5115 - 1s - loss: 0.2960 - accuracy: 0.8804\n",
      "Epoch 26/60\n",
      "5115/5115 - 1s - loss: 0.2944 - accuracy: 0.8784\n",
      "Epoch 27/60\n",
      "5115/5115 - 1s - loss: 0.2999 - accuracy: 0.8755\n",
      "Epoch 28/60\n",
      "5115/5115 - 1s - loss: 0.2907 - accuracy: 0.8805\n",
      "Epoch 29/60\n",
      "5115/5115 - 1s - loss: 0.2962 - accuracy: 0.8821\n",
      "Epoch 30/60\n",
      "5115/5115 - 1s - loss: 0.2947 - accuracy: 0.8804\n",
      "Epoch 31/60\n",
      "5115/5115 - 1s - loss: 0.2888 - accuracy: 0.8809\n",
      "Epoch 32/60\n",
      "5115/5115 - 1s - loss: 0.2902 - accuracy: 0.8815\n",
      "Epoch 33/60\n",
      "5115/5115 - 1s - loss: 0.2918 - accuracy: 0.8811\n",
      "Epoch 34/60\n",
      "5115/5115 - 1s - loss: 0.2975 - accuracy: 0.8753\n",
      "Epoch 35/60\n",
      "5115/5115 - 1s - loss: 0.2893 - accuracy: 0.8833\n",
      "Epoch 36/60\n",
      "5115/5115 - 1s - loss: 0.2928 - accuracy: 0.8805\n",
      "Epoch 37/60\n",
      "5115/5115 - 1s - loss: 0.2917 - accuracy: 0.8817\n",
      "Epoch 38/60\n",
      "5115/5115 - 1s - loss: 0.2869 - accuracy: 0.8819\n",
      "Epoch 39/60\n",
      "5115/5115 - 1s - loss: 0.2867 - accuracy: 0.8817\n",
      "Epoch 40/60\n",
      "5115/5115 - 1s - loss: 0.2893 - accuracy: 0.8805\n",
      "Epoch 41/60\n",
      "5115/5115 - 1s - loss: 0.2890 - accuracy: 0.8811\n",
      "Epoch 42/60\n",
      "5115/5115 - 1s - loss: 0.2880 - accuracy: 0.8850\n",
      "Epoch 43/60\n",
      "5115/5115 - 1s - loss: 0.2823 - accuracy: 0.8831\n",
      "Epoch 44/60\n",
      "5115/5115 - 1s - loss: 0.2841 - accuracy: 0.8833\n",
      "Epoch 45/60\n",
      "5115/5115 - 1s - loss: 0.2829 - accuracy: 0.8845\n",
      "Epoch 46/60\n",
      "5115/5115 - 1s - loss: 0.2869 - accuracy: 0.8860\n",
      "Epoch 47/60\n",
      "5115/5115 - 1s - loss: 0.2824 - accuracy: 0.8827\n",
      "Epoch 48/60\n",
      "5115/5115 - 1s - loss: 0.2857 - accuracy: 0.8854\n",
      "Epoch 49/60\n",
      "5115/5115 - 1s - loss: 0.2799 - accuracy: 0.8848\n",
      "Epoch 50/60\n",
      "5115/5115 - 1s - loss: 0.2831 - accuracy: 0.8831\n",
      "Epoch 51/60\n",
      "5115/5115 - 1s - loss: 0.2784 - accuracy: 0.8897\n",
      "Epoch 52/60\n",
      "5115/5115 - 1s - loss: 0.2870 - accuracy: 0.8815\n",
      "Epoch 53/60\n",
      "5115/5115 - 1s - loss: 0.2783 - accuracy: 0.8907\n",
      "Epoch 54/60\n",
      "5115/5115 - 1s - loss: 0.2800 - accuracy: 0.8864\n",
      "Epoch 55/60\n",
      "5115/5115 - 1s - loss: 0.2821 - accuracy: 0.8872\n",
      "Epoch 56/60\n",
      "5115/5115 - 1s - loss: 0.2782 - accuracy: 0.8878\n",
      "Epoch 57/60\n",
      "5115/5115 - 1s - loss: 0.2833 - accuracy: 0.8882\n",
      "Epoch 58/60\n",
      "5115/5115 - 1s - loss: 0.2809 - accuracy: 0.8854\n",
      "Epoch 59/60\n",
      "5115/5115 - 1s - loss: 0.2742 - accuracy: 0.8917\n",
      "Epoch 60/60\n",
      "5115/5115 - 1s - loss: 0.2851 - accuracy: 0.8835\n"
     ]
    },
    {
     "data": {
      "text/plain": [
       "<tensorflow.python.keras.callbacks.History at 0x1a3fdb53d0>"
      ]
     },
     "execution_count": 22,
     "metadata": {},
     "output_type": "execute_result"
    }
   ],
   "source": [
    "model.compile(optimizer='adam',\n",
    "              loss='categorical_crossentropy',\n",
    "              metrics=['accuracy'])\n",
    "model.fit(\n",
    "    X_train_scaled,\n",
    "    y_train_categorical,\n",
    "    epochs=60,\n",
    "    shuffle=True,\n",
    "    verbose=2\n",
    ")"
   ]
  },
  {
   "cell_type": "markdown",
   "metadata": {},
   "source": [
    "## Quantify our Trained Model"
   ]
  },
  {
   "cell_type": "code",
   "execution_count": 13,
   "metadata": {},
   "outputs": [
    {
     "name": "stdout",
     "output_type": "stream",
     "text": [
      "1705/1 - 0s - loss: 0.4305 - accuracy: 0.8716\n",
      "Normal Neural Network - Loss: 0.32035887115512074, Accuracy: 0.8715542554855347\n"
     ]
    }
   ],
   "source": [
    "model_loss, model_accuracy = model.evaluate(\n",
    "    X_test_scaled, y_test_categorical, verbose=2)\n",
    "print(\n",
    "    f\"Normal Neural Network - Loss: {model_loss}, Accuracy: {model_accuracy}\")"
   ]
  },
  {
   "cell_type": "markdown",
   "metadata": {
    "slideshow": {
     "slide_type": "subslide"
    }
   },
   "source": [
    "# Saving a Trained Model\n",
    "We can save our trained models using the HDF5 binary format with the extension `.h5`"
   ]
  },
  {
   "cell_type": "code",
   "execution_count": 14,
   "metadata": {},
   "outputs": [],
   "source": [
    "# Save the model\n",
    "model.save(\"film_model_trained.h5\")"
   ]
  },
  {
   "cell_type": "markdown",
   "metadata": {},
   "source": [
    "# Loading a Model"
   ]
  },
  {
   "cell_type": "code",
   "execution_count": 15,
   "metadata": {},
   "outputs": [],
   "source": [
    "# Load the model\n",
    "from tensorflow.keras.models import load_model\n",
    "film_model = load_model(\"film_model_trained.h5\")"
   ]
  },
  {
   "cell_type": "markdown",
   "metadata": {},
   "source": [
    "## Evaluating the loaded model"
   ]
  },
  {
   "cell_type": "code",
   "execution_count": 16,
   "metadata": {},
   "outputs": [
    {
     "name": "stdout",
     "output_type": "stream",
     "text": [
      "1705/1 - 0s - loss: 0.4305 - accuracy: 0.8716\n",
      "Normal Neural Network - Loss: 0.32035887115512074, Accuracy: 0.8715542554855347\n"
     ]
    }
   ],
   "source": [
    "model_loss, model_accuracy = film_model.evaluate(\n",
    "    X_test_scaled, y_test_categorical, verbose=2)\n",
    "print(\n",
    "    f\"Normal Neural Network - Loss: {model_loss}, Accuracy: {model_accuracy}\")"
   ]
  },
  {
   "cell_type": "code",
   "execution_count": null,
   "metadata": {},
   "outputs": [],
   "source": [
    "\n"
   ]
  },
  {
   "cell_type": "code",
   "execution_count": null,
   "metadata": {},
   "outputs": [],
   "source": []
  },
  {
   "cell_type": "code",
   "execution_count": 43,
   "metadata": {},
   "outputs": [
    {
     "data": {
      "text/html": [
       "<div>\n",
       "<style scoped>\n",
       "    .dataframe tbody tr th:only-of-type {\n",
       "        vertical-align: middle;\n",
       "    }\n",
       "\n",
       "    .dataframe tbody tr th {\n",
       "        vertical-align: top;\n",
       "    }\n",
       "\n",
       "    .dataframe thead th {\n",
       "        text-align: right;\n",
       "    }\n",
       "</style>\n",
       "<table border=\"1\" class=\"dataframe\">\n",
       "  <thead>\n",
       "    <tr style=\"text-align: right;\">\n",
       "      <th></th>\n",
       "      <th>budget</th>\n",
       "      <th>gross</th>\n",
       "      <th>runtime</th>\n",
       "      <th>votes</th>\n",
       "      <th>star avg score</th>\n",
       "      <th>director avg score</th>\n",
       "      <th>writer avg score</th>\n",
       "      <th>genre avg score</th>\n",
       "      <th>rating avg score</th>\n",
       "      <th>country avg score</th>\n",
       "      <th>company avg score</th>\n",
       "      <th>Total Nominations</th>\n",
       "      <th>Total Awards</th>\n",
       "    </tr>\n",
       "  </thead>\n",
       "  <tbody>\n",
       "    <tr>\n",
       "      <th>0</th>\n",
       "      <td>11000000</td>\n",
       "      <td>266000000</td>\n",
       "      <td>132</td>\n",
       "      <td>415741</td>\n",
       "      <td>7.725</td>\n",
       "      <td>7.775</td>\n",
       "      <td>6.378</td>\n",
       "      <td>5.778</td>\n",
       "      <td>5</td>\n",
       "      <td>7.345</td>\n",
       "      <td>8.6</td>\n",
       "      <td>9</td>\n",
       "      <td>6</td>\n",
       "    </tr>\n",
       "  </tbody>\n",
       "</table>\n",
       "</div>"
      ],
      "text/plain": [
       "     budget      gross  runtime   votes  star avg score  director avg score  \\\n",
       "0  11000000  266000000      132  415741           7.725               7.775   \n",
       "\n",
       "   writer avg score  genre avg score  rating avg score  country avg score  \\\n",
       "0             6.378            5.778                 5              7.345   \n",
       "\n",
       "   company avg score  Total Nominations  Total Awards  \n",
       "0                8.6                  9             6  "
      ]
     },
     "execution_count": 43,
     "metadata": {},
     "output_type": "execute_result"
    }
   ],
   "source": [
    "d = {'budget': [11000000], 'gross': [266000000], 'runtime': [132], 'votes': [415741], 'star avg score': [7.725], 'director avg score': [7.775], 'writer avg score': [6.378], 'genre avg score': [5.778], 'rating avg score': [5], 'country avg score': [7.345], 'company avg score': [8.6], 'Total Nominations': [9], 'Total Awards': [6], }\n",
    "df = pd.DataFrame(data=d)\n",
    "df"
   ]
  },
  {
   "cell_type": "code",
   "execution_count": 85,
   "metadata": {},
   "outputs": [],
   "source": [
    "da = [[11000000,266000000, 132, 415741,  7.725, 7.775, 6.378, 5.778, 5, 7.345, 8.6, 9, 6 ]]"
   ]
  },
  {
   "cell_type": "code",
   "execution_count": 86,
   "metadata": {},
   "outputs": [],
   "source": [
    "test = model.predict(da)"
   ]
  },
  {
   "cell_type": "code",
   "execution_count": 90,
   "metadata": {},
   "outputs": [
    {
     "data": {
      "text/plain": [
       "array([[0., 0., 1., 0.]], dtype=float32)"
      ]
     },
     "execution_count": 90,
     "metadata": {},
     "output_type": "execute_result"
    }
   ],
   "source": [
    "test"
   ]
  },
  {
   "cell_type": "code",
   "execution_count": 94,
   "metadata": {},
   "outputs": [],
   "source": [
    "t = [(1100,26600, 132, 415,  1 , 1, 1, 1, 1, 1, 1, 9, 6 )]"
   ]
  },
  {
   "cell_type": "code",
   "execution_count": 97,
   "metadata": {},
   "outputs": [],
   "source": [
    "test = model.predict_classes(t)"
   ]
  },
  {
   "cell_type": "code",
   "execution_count": 98,
   "metadata": {},
   "outputs": [
    {
     "data": {
      "text/plain": [
       "array([2])"
      ]
     },
     "execution_count": 98,
     "metadata": {},
     "output_type": "execute_result"
    }
   ],
   "source": [
    "test"
   ]
  },
  {
   "cell_type": "code",
   "execution_count": null,
   "metadata": {},
   "outputs": [],
   "source": []
  }
 ],
 "metadata": {
  "kernelspec": {
   "display_name": "Python 3",
   "language": "python",
   "name": "python3"
  },
  "language_info": {
   "codemirror_mode": {
    "name": "ipython",
    "version": 3
   },
   "file_extension": ".py",
   "mimetype": "text/x-python",
   "name": "python",
   "nbconvert_exporter": "python",
   "pygments_lexer": "ipython3",
   "version": "3.7.5"
  },
  "varInspector": {
   "cols": {
    "lenName": 16,
    "lenType": 16,
    "lenVar": 40
   },
   "kernels_config": {
    "python": {
     "delete_cmd_postfix": "",
     "delete_cmd_prefix": "del ",
     "library": "var_list.py",
     "varRefreshCmd": "print(var_dic_list())"
    },
    "r": {
     "delete_cmd_postfix": ") ",
     "delete_cmd_prefix": "rm(",
     "library": "var_list.r",
     "varRefreshCmd": "cat(var_dic_list()) "
    }
   },
   "types_to_exclude": [
    "module",
    "function",
    "builtin_function_or_method",
    "instance",
    "_Feature"
   ],
   "window_display": false
  }
 },
 "nbformat": 4,
 "nbformat_minor": 4
}
