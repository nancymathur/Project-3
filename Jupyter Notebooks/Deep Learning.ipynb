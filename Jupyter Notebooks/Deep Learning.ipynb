{
 "cells": [
  {
   "cell_type": "code",
   "execution_count": 47,
   "metadata": {},
   "outputs": [],
   "source": [
    "# Set the seed value for the notebook so the results are reproducible\n",
    "from numpy.random import seed\n",
    "seed(1)"
   ]
  },
  {
   "cell_type": "code",
   "execution_count": 48,
   "metadata": {
    "slideshow": {
     "slide_type": "subslide"
    }
   },
   "outputs": [],
   "source": [
    "import numpy as np\n",
    "import pandas as pd\n"
   ]
  },
  {
   "cell_type": "markdown",
   "metadata": {
    "slideshow": {
     "slide_type": "subslide"
    }
   },
   "source": [
    "## Data Pre-Processing"
   ]
  },
  {
   "cell_type": "code",
   "execution_count": 49,
   "metadata": {},
   "outputs": [],
   "source": [
    "film = pd.read_csv('csv/clean.csv')\n",
    "film = film.drop('Unnamed: 0', axis = 1)\n",
    "film = film.drop('rating avg score', axis = 1)\n",
    "film = film.drop('country avg score', axis = 1)\n",
    "film = film.drop('Total Awards', axis = 1)\n",
    "film = film.drop('gross', axis = 1)\n",
    "film = film.drop('runtime', axis = 1)\n",
    "film = film.drop('genre avg score', axis = 1)\n",
    "film = film.drop('Total Nominations', axis = 1)"
   ]
  },
  {
   "cell_type": "code",
   "execution_count": 50,
   "metadata": {},
   "outputs": [],
   "source": [
    "size_bins = [0, 4, 6, 7, 8, 10]\n",
    "size_group_names = [\"<4\", \"4-6\", \"6-7\", \"7-8\", \"8-10\"]"
   ]
  },
  {
   "cell_type": "code",
   "execution_count": 51,
   "metadata": {},
   "outputs": [],
   "source": [
    "film['movie scores'] = pd.cut(film['movie score'],size_bins, labels = size_group_names)\n",
    "del film['movie score']"
   ]
  },
  {
   "cell_type": "code",
   "execution_count": 52,
   "metadata": {},
   "outputs": [],
   "source": [
    "#film.loc[film['movie scores'] == '8-10']"
   ]
  },
  {
   "cell_type": "code",
   "execution_count": 53,
   "metadata": {
    "slideshow": {
     "slide_type": "fragment"
    }
   },
   "outputs": [
    {
     "name": "stdout",
     "output_type": "stream",
     "text": [
      "(6820, 6) (6820,)\n"
     ]
    }
   ],
   "source": [
    "X = film.drop(\"movie scores\", axis=1)\n",
    "y = film[\"movie scores\"]\n",
    "print(X.shape, y.shape)\n",
    "\n",
    "from sklearn.model_selection import train_test_split\n",
    "from sklearn.preprocessing import LabelEncoder, MinMaxScaler\n",
    "from tensorflow.keras.utils import to_categorical\n",
    "\n",
    "X_train, X_test, y_train, y_test = train_test_split(\n",
    "    X, y, random_state=1)\n",
    "X_scaler = MinMaxScaler().fit(X_train)\n",
    "X_train_scaled = X_scaler.transform(X_train)\n",
    "X_test_scaled = X_scaler.transform(X_test)\n",
    "\n",
    "\n",
    "# Step 1: Label-encode data set\n",
    "label_encoder = LabelEncoder()\n",
    "label_encoder.fit(y_train)\n",
    "encoded_y_train = label_encoder.transform(y_train)\n",
    "encoded_y_test = label_encoder.transform(y_test)\n",
    "\n",
    "# Step 2: Convert encoded labels to one-hot-encoding\n",
    "y_train_categorical = to_categorical(encoded_y_train)\n",
    "y_test_categorical = to_categorical(encoded_y_test)"
   ]
  },
  {
   "cell_type": "code",
   "execution_count": null,
   "metadata": {},
   "outputs": [],
   "source": []
  },
  {
   "cell_type": "code",
   "execution_count": null,
   "metadata": {},
   "outputs": [],
   "source": []
  },
  {
   "cell_type": "markdown",
   "metadata": {},
   "source": [
    "# Create a Deep Learning Model"
   ]
  },
  {
   "cell_type": "code",
   "execution_count": 56,
   "metadata": {},
   "outputs": [],
   "source": [
    "from tensorflow.keras.models import Sequential\n",
    "from tensorflow.keras.layers import Dense\n",
    "\n",
    "model = Sequential()\n",
    "model.add(Dense(units=10, activation='relu', input_dim=6))\n",
    "model.add(Dense(units=10, activation='relu'))\n",
    "model.add(Dense(units=5, activation='softmax'))"
   ]
  },
  {
   "cell_type": "code",
   "execution_count": 57,
   "metadata": {},
   "outputs": [
    {
     "name": "stdout",
     "output_type": "stream",
     "text": [
      "Train on 5115 samples\n",
      "Epoch 1/100\n",
      "5115/5115 - 1s - loss: 1.3440 - accuracy: 0.3977\n",
      "Epoch 2/100\n",
      "5115/5115 - 0s - loss: 1.2030 - accuracy: 0.4440\n",
      "Epoch 3/100\n",
      "5115/5115 - 0s - loss: 1.1485 - accuracy: 0.5210\n",
      "Epoch 4/100\n",
      "5115/5115 - 0s - loss: 1.0660 - accuracy: 0.5806\n",
      "Epoch 5/100\n",
      "5115/5115 - 0s - loss: 0.9738 - accuracy: 0.6309\n",
      "Epoch 6/100\n",
      "5115/5115 - 0s - loss: 0.8946 - accuracy: 0.6686\n",
      "Epoch 7/100\n",
      "5115/5115 - 0s - loss: 0.8339 - accuracy: 0.7021\n",
      "Epoch 8/100\n",
      "5115/5115 - 0s - loss: 0.7859 - accuracy: 0.7202\n",
      "Epoch 9/100\n",
      "5115/5115 - 0s - loss: 0.7470 - accuracy: 0.7273\n",
      "Epoch 10/100\n",
      "5115/5115 - 0s - loss: 0.7134 - accuracy: 0.7384\n",
      "Epoch 11/100\n",
      "5115/5115 - 0s - loss: 0.6866 - accuracy: 0.7439\n",
      "Epoch 12/100\n",
      "5115/5115 - 0s - loss: 0.6637 - accuracy: 0.7494\n",
      "Epoch 13/100\n",
      "5115/5115 - 0s - loss: 0.6452 - accuracy: 0.7566\n",
      "Epoch 14/100\n",
      "5115/5115 - 0s - loss: 0.6283 - accuracy: 0.7627\n",
      "Epoch 15/100\n",
      "5115/5115 - 0s - loss: 0.6128 - accuracy: 0.7646\n",
      "Epoch 16/100\n",
      "5115/5115 - 0s - loss: 0.5995 - accuracy: 0.7601\n",
      "Epoch 17/100\n",
      "5115/5115 - 0s - loss: 0.5896 - accuracy: 0.7648\n",
      "Epoch 18/100\n",
      "5115/5115 - 0s - loss: 0.5805 - accuracy: 0.7709\n",
      "Epoch 19/100\n",
      "5115/5115 - 0s - loss: 0.5717 - accuracy: 0.7791\n",
      "Epoch 20/100\n",
      "5115/5115 - 0s - loss: 0.5631 - accuracy: 0.7812\n",
      "Epoch 21/100\n",
      "5115/5115 - 0s - loss: 0.5589 - accuracy: 0.7799\n",
      "Epoch 22/100\n",
      "5115/5115 - 0s - loss: 0.5561 - accuracy: 0.7810\n",
      "Epoch 23/100\n",
      "5115/5115 - 0s - loss: 0.5483 - accuracy: 0.7844\n",
      "Epoch 24/100\n",
      "5115/5115 - 0s - loss: 0.5469 - accuracy: 0.7863\n",
      "Epoch 25/100\n",
      "5115/5115 - 0s - loss: 0.5422 - accuracy: 0.7838\n",
      "Epoch 26/100\n",
      "5115/5115 - 0s - loss: 0.5377 - accuracy: 0.7887\n",
      "Epoch 27/100\n",
      "5115/5115 - 0s - loss: 0.5358 - accuracy: 0.7861\n",
      "Epoch 28/100\n",
      "5115/5115 - 0s - loss: 0.5317 - accuracy: 0.7877\n",
      "Epoch 29/100\n",
      "5115/5115 - 0s - loss: 0.5293 - accuracy: 0.7871\n",
      "Epoch 30/100\n",
      "5115/5115 - 0s - loss: 0.5280 - accuracy: 0.7892\n",
      "Epoch 31/100\n",
      "5115/5115 - 0s - loss: 0.5271 - accuracy: 0.7879\n",
      "Epoch 32/100\n",
      "5115/5115 - 0s - loss: 0.5242 - accuracy: 0.7881\n",
      "Epoch 33/100\n",
      "5115/5115 - 0s - loss: 0.5226 - accuracy: 0.7904\n",
      "Epoch 34/100\n",
      "5115/5115 - 0s - loss: 0.5255 - accuracy: 0.7863\n",
      "Epoch 35/100\n",
      "5115/5115 - 0s - loss: 0.5227 - accuracy: 0.7879\n",
      "Epoch 36/100\n",
      "5115/5115 - 0s - loss: 0.5198 - accuracy: 0.7855\n",
      "Epoch 37/100\n",
      "5115/5115 - 0s - loss: 0.5206 - accuracy: 0.7875\n",
      "Epoch 38/100\n",
      "5115/5115 - 0s - loss: 0.5211 - accuracy: 0.7863\n",
      "Epoch 39/100\n",
      "5115/5115 - 0s - loss: 0.5203 - accuracy: 0.7891\n",
      "Epoch 40/100\n",
      "5115/5115 - 0s - loss: 0.5182 - accuracy: 0.7896\n",
      "Epoch 41/100\n",
      "5115/5115 - 0s - loss: 0.5162 - accuracy: 0.7889\n",
      "Epoch 42/100\n",
      "5115/5115 - 0s - loss: 0.5160 - accuracy: 0.7949\n",
      "Epoch 43/100\n",
      "5115/5115 - 0s - loss: 0.5155 - accuracy: 0.7924\n",
      "Epoch 44/100\n",
      "5115/5115 - 0s - loss: 0.5166 - accuracy: 0.7873\n",
      "Epoch 45/100\n",
      "5115/5115 - 0s - loss: 0.5146 - accuracy: 0.7904\n",
      "Epoch 46/100\n",
      "5115/5115 - 0s - loss: 0.5154 - accuracy: 0.7904\n",
      "Epoch 47/100\n",
      "5115/5115 - 0s - loss: 0.5168 - accuracy: 0.7828\n",
      "Epoch 48/100\n",
      "5115/5115 - 0s - loss: 0.5148 - accuracy: 0.7912\n",
      "Epoch 49/100\n",
      "5115/5115 - 0s - loss: 0.5148 - accuracy: 0.7914\n",
      "Epoch 50/100\n",
      "5115/5115 - 0s - loss: 0.5132 - accuracy: 0.7934\n",
      "Epoch 51/100\n",
      "5115/5115 - 0s - loss: 0.5139 - accuracy: 0.7934\n",
      "Epoch 52/100\n",
      "5115/5115 - 0s - loss: 0.5126 - accuracy: 0.7920\n",
      "Epoch 53/100\n",
      "5115/5115 - 0s - loss: 0.5125 - accuracy: 0.7912\n",
      "Epoch 54/100\n",
      "5115/5115 - 0s - loss: 0.5144 - accuracy: 0.7910\n",
      "Epoch 55/100\n",
      "5115/5115 - 0s - loss: 0.5118 - accuracy: 0.7902\n",
      "Epoch 56/100\n",
      "5115/5115 - 0s - loss: 0.5169 - accuracy: 0.7861\n",
      "Epoch 57/100\n",
      "5115/5115 - 0s - loss: 0.5130 - accuracy: 0.7894\n",
      "Epoch 58/100\n",
      "5115/5115 - 0s - loss: 0.5111 - accuracy: 0.7916\n",
      "Epoch 59/100\n",
      "5115/5115 - 0s - loss: 0.5115 - accuracy: 0.7904\n",
      "Epoch 60/100\n",
      "5115/5115 - 0s - loss: 0.5130 - accuracy: 0.7908\n",
      "Epoch 61/100\n",
      "5115/5115 - 0s - loss: 0.5121 - accuracy: 0.7891\n",
      "Epoch 62/100\n",
      "5115/5115 - 0s - loss: 0.5138 - accuracy: 0.7922\n",
      "Epoch 63/100\n",
      "5115/5115 - 0s - loss: 0.5122 - accuracy: 0.7871\n",
      "Epoch 64/100\n",
      "5115/5115 - 0s - loss: 0.5127 - accuracy: 0.7937\n",
      "Epoch 65/100\n",
      "5115/5115 - 0s - loss: 0.5113 - accuracy: 0.7939\n",
      "Epoch 66/100\n",
      "5115/5115 - 0s - loss: 0.5121 - accuracy: 0.7918\n",
      "Epoch 67/100\n",
      "5115/5115 - 0s - loss: 0.5125 - accuracy: 0.7918\n",
      "Epoch 68/100\n",
      "5115/5115 - 0s - loss: 0.5138 - accuracy: 0.7891\n",
      "Epoch 69/100\n",
      "5115/5115 - 0s - loss: 0.5123 - accuracy: 0.7883\n",
      "Epoch 70/100\n",
      "5115/5115 - 0s - loss: 0.5114 - accuracy: 0.7939\n",
      "Epoch 71/100\n",
      "5115/5115 - 0s - loss: 0.5105 - accuracy: 0.7910\n",
      "Epoch 72/100\n",
      "5115/5115 - 0s - loss: 0.5109 - accuracy: 0.7957\n",
      "Epoch 73/100\n",
      "5115/5115 - 0s - loss: 0.5093 - accuracy: 0.7916\n",
      "Epoch 74/100\n",
      "5115/5115 - 0s - loss: 0.5104 - accuracy: 0.7920\n",
      "Epoch 75/100\n",
      "5115/5115 - 0s - loss: 0.5096 - accuracy: 0.7896\n",
      "Epoch 76/100\n",
      "5115/5115 - 0s - loss: 0.5144 - accuracy: 0.7892\n",
      "Epoch 77/100\n",
      "5115/5115 - 0s - loss: 0.5070 - accuracy: 0.7908\n",
      "Epoch 78/100\n",
      "5115/5115 - 0s - loss: 0.5170 - accuracy: 0.7896\n",
      "Epoch 79/100\n",
      "5115/5115 - 0s - loss: 0.5112 - accuracy: 0.7922\n",
      "Epoch 80/100\n",
      "5115/5115 - 0s - loss: 0.5108 - accuracy: 0.7918\n",
      "Epoch 81/100\n",
      "5115/5115 - 0s - loss: 0.5099 - accuracy: 0.7920\n",
      "Epoch 82/100\n",
      "5115/5115 - 0s - loss: 0.5106 - accuracy: 0.7908\n",
      "Epoch 83/100\n",
      "5115/5115 - 0s - loss: 0.5088 - accuracy: 0.7934\n",
      "Epoch 84/100\n",
      "5115/5115 - 0s - loss: 0.5083 - accuracy: 0.7932\n",
      "Epoch 85/100\n",
      "5115/5115 - 0s - loss: 0.5091 - accuracy: 0.7953\n",
      "Epoch 86/100\n",
      "5115/5115 - 0s - loss: 0.5092 - accuracy: 0.7914\n",
      "Epoch 87/100\n",
      "5115/5115 - 0s - loss: 0.5093 - accuracy: 0.7934\n",
      "Epoch 88/100\n",
      "5115/5115 - 0s - loss: 0.5101 - accuracy: 0.7943\n",
      "Epoch 89/100\n",
      "5115/5115 - 0s - loss: 0.5091 - accuracy: 0.7949\n",
      "Epoch 90/100\n",
      "5115/5115 - 0s - loss: 0.5083 - accuracy: 0.7953\n",
      "Epoch 91/100\n",
      "5115/5115 - 0s - loss: 0.5116 - accuracy: 0.7932\n",
      "Epoch 92/100\n",
      "5115/5115 - 0s - loss: 0.5094 - accuracy: 0.7916\n",
      "Epoch 93/100\n",
      "5115/5115 - 0s - loss: 0.5082 - accuracy: 0.7932\n",
      "Epoch 94/100\n",
      "5115/5115 - 0s - loss: 0.5096 - accuracy: 0.7953\n",
      "Epoch 95/100\n",
      "5115/5115 - 0s - loss: 0.5081 - accuracy: 0.7932\n",
      "Epoch 96/100\n",
      "5115/5115 - 0s - loss: 0.5092 - accuracy: 0.7957\n",
      "Epoch 97/100\n",
      "5115/5115 - 0s - loss: 0.5083 - accuracy: 0.7924\n",
      "Epoch 98/100\n",
      "5115/5115 - 0s - loss: 0.5063 - accuracy: 0.7943\n",
      "Epoch 99/100\n",
      "5115/5115 - 0s - loss: 0.5101 - accuracy: 0.7965\n",
      "Epoch 100/100\n",
      "5115/5115 - 0s - loss: 0.5099 - accuracy: 0.7951\n"
     ]
    },
    {
     "data": {
      "text/plain": [
       "<tensorflow.python.keras.callbacks.History at 0x1a43716610>"
      ]
     },
     "execution_count": 57,
     "metadata": {},
     "output_type": "execute_result"
    }
   ],
   "source": [
    "model.compile(optimizer='adam',\n",
    "              loss='categorical_crossentropy',\n",
    "              metrics=['accuracy'])\n",
    "model.fit(\n",
    "    X_train_scaled,\n",
    "    y_train_categorical,\n",
    "    epochs=100,\n",
    "    shuffle=True,\n",
    "    verbose=2\n",
    ")"
   ]
  },
  {
   "cell_type": "markdown",
   "metadata": {},
   "source": [
    "## Quantify our Trained Model"
   ]
  },
  {
   "cell_type": "code",
   "execution_count": 58,
   "metadata": {},
   "outputs": [
    {
     "name": "stdout",
     "output_type": "stream",
     "text": [
      "1705/1 - 0s - loss: 0.9375 - accuracy: 0.7748\n",
      "Normal Neural Network - Loss: 0.5447074505590623, Accuracy: 0.7747800350189209\n"
     ]
    }
   ],
   "source": [
    "model_loss, model_accuracy = model.evaluate(\n",
    "    X_test_scaled, y_test_categorical, verbose=2)\n",
    "print(\n",
    "    f\"Normal Neural Network - Loss: {model_loss}, Accuracy: {model_accuracy}\")"
   ]
  },
  {
   "cell_type": "markdown",
   "metadata": {
    "slideshow": {
     "slide_type": "subslide"
    }
   },
   "source": [
    "# Saving a Trained Model\n",
    "We can save our trained models using the HDF5 binary format with the extension `.h5`"
   ]
  },
  {
   "cell_type": "code",
   "execution_count": 59,
   "metadata": {},
   "outputs": [],
   "source": [
    "# Save the model\n",
    "model.save(\"film_model_trained.h5\")"
   ]
  },
  {
   "cell_type": "markdown",
   "metadata": {},
   "source": [
    "# Loading a Model"
   ]
  },
  {
   "cell_type": "code",
   "execution_count": 60,
   "metadata": {},
   "outputs": [],
   "source": [
    "# Load the model\n",
    "from tensorflow.keras.models import load_model\n",
    "film_model = load_model(\"film_model_trained.h5\")"
   ]
  },
  {
   "cell_type": "markdown",
   "metadata": {},
   "source": [
    "## Evaluating the loaded model"
   ]
  },
  {
   "cell_type": "code",
   "execution_count": 61,
   "metadata": {},
   "outputs": [
    {
     "name": "stdout",
     "output_type": "stream",
     "text": [
      "1705/1 - 0s - loss: 0.9375 - accuracy: 0.7748\n",
      "Normal Neural Network - Loss: 0.5447074505590623, Accuracy: 0.7747800350189209\n"
     ]
    }
   ],
   "source": [
    "model_loss, model_accuracy = film_model.evaluate(\n",
    "    X_test_scaled, y_test_categorical, verbose=2)\n",
    "print(\n",
    "    f\"Normal Neural Network - Loss: {model_loss}, Accuracy: {model_accuracy}\")"
   ]
  },
  {
   "cell_type": "markdown",
   "metadata": {},
   "source": [
    "# Predictions"
   ]
  },
  {
   "cell_type": "code",
   "execution_count": 62,
   "metadata": {},
   "outputs": [],
   "source": [
    "encoded_predictions = model.predict_classes(X_test_scaled[:5])\n",
    "prediction_labels = label_encoder.inverse_transform(encoded_predictions)"
   ]
  },
  {
   "cell_type": "code",
   "execution_count": 63,
   "metadata": {},
   "outputs": [
    {
     "name": "stdout",
     "output_type": "stream",
     "text": [
      "Predicted classes: ['6-7' '4-6' '7-8' '6-7' '4-6']\n",
      "Actual Labels: ['6-7', '<4', '7-8', '6-7', '4-6']\n"
     ]
    }
   ],
   "source": [
    "print(f\"Predicted classes: {prediction_labels}\")\n",
    "print(f\"Actual Labels: {list(y_test[:5])}\")"
   ]
  },
  {
   "cell_type": "code",
   "execution_count": 67,
   "metadata": {},
   "outputs": [],
   "source": [
    "parasite = np.array([[11000000, 415741,  7.725000, 7.775000, 5.778000, 8.6000]])"
   ]
  },
  {
   "cell_type": "code",
   "execution_count": 68,
   "metadata": {},
   "outputs": [],
   "source": [
    "par = model.predict_classes(parasite)\n",
    "pred = label_encoder.inverse_transform(par)"
   ]
  },
  {
   "cell_type": "code",
   "execution_count": 69,
   "metadata": {},
   "outputs": [
    {
     "name": "stdout",
     "output_type": "stream",
     "text": [
      "Predicted class: ['<4']\n"
     ]
    }
   ],
   "source": [
    "print(f\"Predicted class: {pred}\")"
   ]
  },
  {
   "cell_type": "code",
   "execution_count": 22,
   "metadata": {},
   "outputs": [
    {
     "name": "stdout",
     "output_type": "stream",
     "text": [
      "Model: \"sequential\"\n",
      "_________________________________________________________________\n",
      "Layer (type)                 Output Shape              Param #   \n",
      "=================================================================\n",
      "dense (Dense)                (None, 20)                160       \n",
      "_________________________________________________________________\n",
      "dense_1 (Dense)              (None, 20)                420       \n",
      "_________________________________________________________________\n",
      "dense_2 (Dense)              (None, 5)                 105       \n",
      "=================================================================\n",
      "Total params: 685\n",
      "Trainable params: 685\n",
      "Non-trainable params: 0\n",
      "_________________________________________________________________\n"
     ]
    }
   ],
   "source": [
    "model.summary()"
   ]
  },
  {
   "cell_type": "code",
   "execution_count": null,
   "metadata": {},
   "outputs": [],
   "source": []
  },
  {
   "cell_type": "code",
   "execution_count": null,
   "metadata": {},
   "outputs": [],
   "source": []
  },
  {
   "cell_type": "code",
   "execution_count": null,
   "metadata": {},
   "outputs": [],
   "source": []
  }
 ],
 "metadata": {
  "kernelspec": {
   "display_name": "Python 3",
   "language": "python",
   "name": "python3"
  },
  "language_info": {
   "codemirror_mode": {
    "name": "ipython",
    "version": 3
   },
   "file_extension": ".py",
   "mimetype": "text/x-python",
   "name": "python",
   "nbconvert_exporter": "python",
   "pygments_lexer": "ipython3",
   "version": "3.7.5"
  },
  "varInspector": {
   "cols": {
    "lenName": 16,
    "lenType": 16,
    "lenVar": 40
   },
   "kernels_config": {
    "python": {
     "delete_cmd_postfix": "",
     "delete_cmd_prefix": "del ",
     "library": "var_list.py",
     "varRefreshCmd": "print(var_dic_list())"
    },
    "r": {
     "delete_cmd_postfix": ") ",
     "delete_cmd_prefix": "rm(",
     "library": "var_list.r",
     "varRefreshCmd": "cat(var_dic_list()) "
    }
   },
   "types_to_exclude": [
    "module",
    "function",
    "builtin_function_or_method",
    "instance",
    "_Feature"
   ],
   "window_display": false
  }
 },
 "nbformat": 4,
 "nbformat_minor": 4
}
