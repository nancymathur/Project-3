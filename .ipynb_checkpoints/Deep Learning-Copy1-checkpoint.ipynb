{
 "cells": [
  {
   "cell_type": "code",
   "execution_count": 1,
   "metadata": {},
   "outputs": [],
   "source": [
    "# Set the seed value for the notebook so the results are reproducible\n",
    "from numpy.random import seed\n",
    "seed(1)"
   ]
  },
  {
   "cell_type": "code",
   "execution_count": 2,
   "metadata": {
    "slideshow": {
     "slide_type": "subslide"
    }
   },
   "outputs": [],
   "source": [
    "import numpy as np\n",
    "import pandas as pd\n"
   ]
  },
  {
   "cell_type": "markdown",
   "metadata": {
    "slideshow": {
     "slide_type": "subslide"
    }
   },
   "source": [
    "## Data Pre-Processing"
   ]
  },
  {
   "cell_type": "code",
   "execution_count": 3,
   "metadata": {},
   "outputs": [],
   "source": [
    "film = pd.read_csv('csv/clean.csv')\n",
    "film = film.drop('Unnamed: 0', axis = 1)\n",
    "film = film.drop('rating avg score', axis = 1)\n",
    "film = film.drop('country avg score', axis = 1)\n",
    "film = film.drop('Total Awards', axis = 1)\n"
   ]
  },
  {
   "cell_type": "code",
   "execution_count": 4,
   "metadata": {},
   "outputs": [],
   "source": [
    "size_bins = [0, 4, 6, 7, 8, 10]\n",
    "size_group_names = [\"<4\", \"4-6\", \"6-7\", \"7-8\", \"8-10\"]"
   ]
  },
  {
   "cell_type": "code",
   "execution_count": 5,
   "metadata": {},
   "outputs": [],
   "source": [
    "film['movie scores'] = pd.cut(film['movie score'],size_bins, labels = size_group_names)\n",
    "del film['movie score']"
   ]
  },
  {
   "cell_type": "code",
   "execution_count": 6,
   "metadata": {},
   "outputs": [
    {
     "data": {
      "text/html": [
       "<div>\n",
       "<style scoped>\n",
       "    .dataframe tbody tr th:only-of-type {\n",
       "        vertical-align: middle;\n",
       "    }\n",
       "\n",
       "    .dataframe tbody tr th {\n",
       "        vertical-align: top;\n",
       "    }\n",
       "\n",
       "    .dataframe thead th {\n",
       "        text-align: right;\n",
       "    }\n",
       "</style>\n",
       "<table border=\"1\" class=\"dataframe\">\n",
       "  <thead>\n",
       "    <tr style=\"text-align: right;\">\n",
       "      <th></th>\n",
       "      <th>budget</th>\n",
       "      <th>gross</th>\n",
       "      <th>runtime</th>\n",
       "      <th>votes</th>\n",
       "      <th>star avg score</th>\n",
       "      <th>director avg score</th>\n",
       "      <th>writer avg score</th>\n",
       "      <th>genre avg score</th>\n",
       "      <th>company avg score</th>\n",
       "      <th>Total Nominations</th>\n",
       "      <th>movie scores</th>\n",
       "    </tr>\n",
       "  </thead>\n",
       "  <tbody>\n",
       "    <tr>\n",
       "      <th>29</th>\n",
       "      <td>20000000</td>\n",
       "      <td>56671993</td>\n",
       "      <td>134</td>\n",
       "      <td>503763</td>\n",
       "      <td>6.933333</td>\n",
       "      <td>7.633333</td>\n",
       "      <td>6.566667</td>\n",
       "      <td>7.040390</td>\n",
       "      <td>6.042424</td>\n",
       "      <td>15.0</td>\n",
       "      <td>8-10</td>\n",
       "    </tr>\n",
       "    <tr>\n",
       "      <th>61</th>\n",
       "      <td>0</td>\n",
       "      <td>6532908</td>\n",
       "      <td>170</td>\n",
       "      <td>250762</td>\n",
       "      <td>8.044444</td>\n",
       "      <td>8.300000</td>\n",
       "      <td>8.300000</td>\n",
       "      <td>6.354847</td>\n",
       "      <td>8.400000</td>\n",
       "      <td>1.0</td>\n",
       "      <td>8-10</td>\n",
       "    </tr>\n",
       "    <tr>\n",
       "      <th>68</th>\n",
       "      <td>1000000</td>\n",
       "      <td>238507</td>\n",
       "      <td>88</td>\n",
       "      <td>41640</td>\n",
       "      <td>8.100000</td>\n",
       "      <td>7.766667</td>\n",
       "      <td>7.766667</td>\n",
       "      <td>6.756322</td>\n",
       "      <td>8.100000</td>\n",
       "      <td>1.0</td>\n",
       "      <td>8-10</td>\n",
       "    </tr>\n",
       "    <tr>\n",
       "      <th>99</th>\n",
       "      <td>58000000</td>\n",
       "      <td>170742341</td>\n",
       "      <td>135</td>\n",
       "      <td>681379</td>\n",
       "      <td>7.011111</td>\n",
       "      <td>6.840000</td>\n",
       "      <td>6.725000</td>\n",
       "      <td>7.040390</td>\n",
       "      <td>6.396358</td>\n",
       "      <td>13.0</td>\n",
       "      <td>8-10</td>\n",
       "    </tr>\n",
       "    <tr>\n",
       "      <th>183</th>\n",
       "      <td>500000</td>\n",
       "      <td>7098492</td>\n",
       "      <td>123</td>\n",
       "      <td>170427</td>\n",
       "      <td>8.400000</td>\n",
       "      <td>8.050000</td>\n",
       "      <td>8.050000</td>\n",
       "      <td>6.715720</td>\n",
       "      <td>8.400000</td>\n",
       "      <td>3.0</td>\n",
       "      <td>8-10</td>\n",
       "    </tr>\n",
       "    <tr>\n",
       "      <th>...</th>\n",
       "      <td>...</td>\n",
       "      <td>...</td>\n",
       "      <td>...</td>\n",
       "      <td>...</td>\n",
       "      <td>...</td>\n",
       "      <td>...</td>\n",
       "      <td>...</td>\n",
       "      <td>...</td>\n",
       "      <td>...</td>\n",
       "      <td>...</td>\n",
       "      <td>...</td>\n",
       "    </tr>\n",
       "    <tr>\n",
       "      <th>6659</th>\n",
       "      <td>3300000</td>\n",
       "      <td>13092000</td>\n",
       "      <td>107</td>\n",
       "      <td>503754</td>\n",
       "      <td>6.500000</td>\n",
       "      <td>8.350000</td>\n",
       "      <td>8.350000</td>\n",
       "      <td>6.715720</td>\n",
       "      <td>6.840000</td>\n",
       "      <td>6.0</td>\n",
       "      <td>8-10</td>\n",
       "    </tr>\n",
       "    <tr>\n",
       "      <th>6718</th>\n",
       "      <td>0</td>\n",
       "      <td>3210139</td>\n",
       "      <td>128</td>\n",
       "      <td>51522</td>\n",
       "      <td>8.100000</td>\n",
       "      <td>6.740000</td>\n",
       "      <td>7.366667</td>\n",
       "      <td>6.715720</td>\n",
       "      <td>7.700000</td>\n",
       "      <td>1.0</td>\n",
       "      <td>8-10</td>\n",
       "    </tr>\n",
       "    <tr>\n",
       "      <th>6776</th>\n",
       "      <td>0</td>\n",
       "      <td>1136776</td>\n",
       "      <td>173</td>\n",
       "      <td>14617</td>\n",
       "      <td>8.100000</td>\n",
       "      <td>8.100000</td>\n",
       "      <td>8.100000</td>\n",
       "      <td>6.715720</td>\n",
       "      <td>8.100000</td>\n",
       "      <td>1.0</td>\n",
       "      <td>8-10</td>\n",
       "    </tr>\n",
       "    <tr>\n",
       "      <th>6795</th>\n",
       "      <td>0</td>\n",
       "      <td>5017246</td>\n",
       "      <td>106</td>\n",
       "      <td>54503</td>\n",
       "      <td>8.050000</td>\n",
       "      <td>8.500000</td>\n",
       "      <td>8.500000</td>\n",
       "      <td>6.746931</td>\n",
       "      <td>8.500000</td>\n",
       "      <td>1.0</td>\n",
       "      <td>8-10</td>\n",
       "    </tr>\n",
       "    <tr>\n",
       "      <th>6809</th>\n",
       "      <td>0</td>\n",
       "      <td>3076226</td>\n",
       "      <td>155</td>\n",
       "      <td>50511</td>\n",
       "      <td>7.500000</td>\n",
       "      <td>8.100000</td>\n",
       "      <td>7.500000</td>\n",
       "      <td>6.354847</td>\n",
       "      <td>7.850000</td>\n",
       "      <td>1.0</td>\n",
       "      <td>8-10</td>\n",
       "    </tr>\n",
       "  </tbody>\n",
       "</table>\n",
       "<p>168 rows × 11 columns</p>\n",
       "</div>"
      ],
      "text/plain": [
       "        budget      gross  runtime   votes  star avg score  \\\n",
       "29    20000000   56671993      134  503763        6.933333   \n",
       "61           0    6532908      170  250762        8.044444   \n",
       "68     1000000     238507       88   41640        8.100000   \n",
       "99    58000000  170742341      135  681379        7.011111   \n",
       "183     500000    7098492      123  170427        8.400000   \n",
       "...        ...        ...      ...     ...             ...   \n",
       "6659   3300000   13092000      107  503754        6.500000   \n",
       "6718         0    3210139      128   51522        8.100000   \n",
       "6776         0    1136776      173   14617        8.100000   \n",
       "6795         0    5017246      106   54503        8.050000   \n",
       "6809         0    3076226      155   50511        7.500000   \n",
       "\n",
       "      director avg score  writer avg score  genre avg score  \\\n",
       "29              7.633333          6.566667         7.040390   \n",
       "61              8.300000          8.300000         6.354847   \n",
       "68              7.766667          7.766667         6.756322   \n",
       "99              6.840000          6.725000         7.040390   \n",
       "183             8.050000          8.050000         6.715720   \n",
       "...                  ...               ...              ...   \n",
       "6659            8.350000          8.350000         6.715720   \n",
       "6718            6.740000          7.366667         6.715720   \n",
       "6776            8.100000          8.100000         6.715720   \n",
       "6795            8.500000          8.500000         6.746931   \n",
       "6809            8.100000          7.500000         6.354847   \n",
       "\n",
       "      company avg score  Total Nominations movie scores  \n",
       "29             6.042424               15.0         8-10  \n",
       "61             8.400000                1.0         8-10  \n",
       "68             8.100000                1.0         8-10  \n",
       "99             6.396358               13.0         8-10  \n",
       "183            8.400000                3.0         8-10  \n",
       "...                 ...                ...          ...  \n",
       "6659           6.840000                6.0         8-10  \n",
       "6718           7.700000                1.0         8-10  \n",
       "6776           8.100000                1.0         8-10  \n",
       "6795           8.500000                1.0         8-10  \n",
       "6809           7.850000                1.0         8-10  \n",
       "\n",
       "[168 rows x 11 columns]"
      ]
     },
     "execution_count": 6,
     "metadata": {},
     "output_type": "execute_result"
    }
   ],
   "source": [
    "film.loc[film['movie scores'] == '8-10']"
   ]
  },
  {
   "cell_type": "code",
   "execution_count": 7,
   "metadata": {
    "slideshow": {
     "slide_type": "fragment"
    }
   },
   "outputs": [
    {
     "name": "stdout",
     "output_type": "stream",
     "text": [
      "(6820, 10) (6820,)\n"
     ]
    }
   ],
   "source": [
    "X = film.drop(\"movie scores\", axis=1)\n",
    "y = film[\"movie scores\"]\n",
    "print(X.shape, y.shape)\n",
    "\n",
    "from sklearn.model_selection import train_test_split\n",
    "from sklearn.preprocessing import LabelEncoder, MinMaxScaler\n",
    "from tensorflow.keras.utils import to_categorical\n",
    "\n",
    "X_train, X_test, y_train, y_test = train_test_split(\n",
    "    X, y, random_state=1)\n",
    "X_scaler = MinMaxScaler().fit(X_train)\n",
    "X_train_scaled = X_scaler.transform(X_train)\n",
    "X_test_scaled = X_scaler.transform(X_test)\n",
    "\n",
    "\n",
    "# Step 1: Label-encode data set\n",
    "label_encoder = LabelEncoder()\n",
    "label_encoder.fit(y_train)\n",
    "encoded_y_train = label_encoder.transform(y_train)\n",
    "encoded_y_test = label_encoder.transform(y_test)\n",
    "\n",
    "# Step 2: Convert encoded labels to one-hot-encoding\n",
    "y_train_categorical = to_categorical(encoded_y_train)\n",
    "y_test_categorical = to_categorical(encoded_y_test)"
   ]
  },
  {
   "cell_type": "code",
   "execution_count": null,
   "metadata": {},
   "outputs": [],
   "source": []
  },
  {
   "cell_type": "code",
   "execution_count": 8,
   "metadata": {},
   "outputs": [
    {
     "data": {
      "text/html": [
       "<div>\n",
       "<style scoped>\n",
       "    .dataframe tbody tr th:only-of-type {\n",
       "        vertical-align: middle;\n",
       "    }\n",
       "\n",
       "    .dataframe tbody tr th {\n",
       "        vertical-align: top;\n",
       "    }\n",
       "\n",
       "    .dataframe thead th {\n",
       "        text-align: right;\n",
       "    }\n",
       "</style>\n",
       "<table border=\"1\" class=\"dataframe\">\n",
       "  <thead>\n",
       "    <tr style=\"text-align: right;\">\n",
       "      <th></th>\n",
       "      <th>budget</th>\n",
       "      <th>gross</th>\n",
       "      <th>runtime</th>\n",
       "      <th>votes</th>\n",
       "      <th>star avg score</th>\n",
       "      <th>director avg score</th>\n",
       "      <th>writer avg score</th>\n",
       "      <th>genre avg score</th>\n",
       "      <th>company avg score</th>\n",
       "      <th>Total Nominations</th>\n",
       "      <th>movie scores</th>\n",
       "    </tr>\n",
       "  </thead>\n",
       "  <tbody>\n",
       "    <tr>\n",
       "      <th>0</th>\n",
       "      <td>30000000</td>\n",
       "      <td>31743332</td>\n",
       "      <td>79</td>\n",
       "      <td>117268</td>\n",
       "      <td>6.864286</td>\n",
       "      <td>7.100000</td>\n",
       "      <td>7.100000</td>\n",
       "      <td>6.746931</td>\n",
       "      <td>6.839474</td>\n",
       "      <td>2.0</td>\n",
       "      <td>7-8</td>\n",
       "    </tr>\n",
       "    <tr>\n",
       "      <th>1</th>\n",
       "      <td>35000000</td>\n",
       "      <td>81159365</td>\n",
       "      <td>123</td>\n",
       "      <td>201705</td>\n",
       "      <td>6.875000</td>\n",
       "      <td>5.957143</td>\n",
       "      <td>6.200000</td>\n",
       "      <td>6.756322</td>\n",
       "      <td>6.315741</td>\n",
       "      <td>1.0</td>\n",
       "      <td>6-7</td>\n",
       "    </tr>\n",
       "    <tr>\n",
       "      <th>2</th>\n",
       "      <td>1500000</td>\n",
       "      <td>779820</td>\n",
       "      <td>102</td>\n",
       "      <td>11945</td>\n",
       "      <td>5.900000</td>\n",
       "      <td>5.666667</td>\n",
       "      <td>5.666667</td>\n",
       "      <td>5.687004</td>\n",
       "      <td>5.000000</td>\n",
       "      <td>1.0</td>\n",
       "      <td>4-6</td>\n",
       "    </tr>\n",
       "    <tr>\n",
       "      <th>3</th>\n",
       "      <td>40000000</td>\n",
       "      <td>95001343</td>\n",
       "      <td>128</td>\n",
       "      <td>71006</td>\n",
       "      <td>7.500000</td>\n",
       "      <td>6.740000</td>\n",
       "      <td>6.630000</td>\n",
       "      <td>7.040390</td>\n",
       "      <td>6.384354</td>\n",
       "      <td>1.0</td>\n",
       "      <td>7-8</td>\n",
       "    </tr>\n",
       "    <tr>\n",
       "      <th>4</th>\n",
       "      <td>13000000</td>\n",
       "      <td>16574731</td>\n",
       "      <td>93</td>\n",
       "      <td>28791</td>\n",
       "      <td>6.440000</td>\n",
       "      <td>5.800000</td>\n",
       "      <td>5.800000</td>\n",
       "      <td>6.715720</td>\n",
       "      <td>5.800000</td>\n",
       "      <td>1.0</td>\n",
       "      <td>4-6</td>\n",
       "    </tr>\n",
       "  </tbody>\n",
       "</table>\n",
       "</div>"
      ],
      "text/plain": [
       "     budget     gross  runtime   votes  star avg score  director avg score  \\\n",
       "0  30000000  31743332       79  117268        6.864286            7.100000   \n",
       "1  35000000  81159365      123  201705        6.875000            5.957143   \n",
       "2   1500000    779820      102   11945        5.900000            5.666667   \n",
       "3  40000000  95001343      128   71006        7.500000            6.740000   \n",
       "4  13000000  16574731       93   28791        6.440000            5.800000   \n",
       "\n",
       "   writer avg score  genre avg score  company avg score  Total Nominations  \\\n",
       "0          7.100000         6.746931           6.839474                2.0   \n",
       "1          6.200000         6.756322           6.315741                1.0   \n",
       "2          5.666667         5.687004           5.000000                1.0   \n",
       "3          6.630000         7.040390           6.384354                1.0   \n",
       "4          5.800000         6.715720           5.800000                1.0   \n",
       "\n",
       "  movie scores  \n",
       "0          7-8  \n",
       "1          6-7  \n",
       "2          4-6  \n",
       "3          7-8  \n",
       "4          4-6  "
      ]
     },
     "execution_count": 8,
     "metadata": {},
     "output_type": "execute_result"
    }
   ],
   "source": [
    "film.head()"
   ]
  },
  {
   "cell_type": "markdown",
   "metadata": {},
   "source": [
    "# Create a Deep Learning Model"
   ]
  },
  {
   "cell_type": "code",
   "execution_count": 9,
   "metadata": {},
   "outputs": [],
   "source": [
    "from tensorflow.keras.models import Sequential\n",
    "from tensorflow.keras.layers import Dense\n",
    "\n",
    "model = Sequential()\n",
    "model.add(Dense(units=30, activation='relu', input_dim=10))\n",
    "model.add(Dense(units=30, activation='relu'))\n",
    "model.add(Dense(units=5, activation='softmax'))"
   ]
  },
  {
   "cell_type": "code",
   "execution_count": 10,
   "metadata": {},
   "outputs": [
    {
     "name": "stdout",
     "output_type": "stream",
     "text": [
      "Train on 5115 samples\n",
      "Epoch 1/100\n",
      "5115/5115 - 1s - loss: 1.2958 - accuracy: 0.3722\n",
      "Epoch 2/100\n",
      "5115/5115 - 0s - loss: 1.1800 - accuracy: 0.4239\n",
      "Epoch 3/100\n",
      "5115/5115 - 0s - loss: 1.0720 - accuracy: 0.5441\n",
      "Epoch 4/100\n",
      "5115/5115 - 0s - loss: 0.9024 - accuracy: 0.6774\n",
      "Epoch 5/100\n",
      "5115/5115 - 0s - loss: 0.7716 - accuracy: 0.7283\n",
      "Epoch 6/100\n",
      "5115/5115 - 0s - loss: 0.6889 - accuracy: 0.7599\n",
      "Epoch 7/100\n",
      "5115/5115 - 0s - loss: 0.6429 - accuracy: 0.7627\n",
      "Epoch 8/100\n",
      "5115/5115 - 0s - loss: 0.6034 - accuracy: 0.7679\n",
      "Epoch 9/100\n",
      "5115/5115 - 0s - loss: 0.5753 - accuracy: 0.7738\n",
      "Epoch 10/100\n",
      "5115/5115 - 0s - loss: 0.5603 - accuracy: 0.7777\n",
      "Epoch 11/100\n",
      "5115/5115 - 0s - loss: 0.5466 - accuracy: 0.7832\n",
      "Epoch 12/100\n",
      "5115/5115 - 0s - loss: 0.5391 - accuracy: 0.7851\n",
      "Epoch 13/100\n",
      "5115/5115 - 0s - loss: 0.5298 - accuracy: 0.7894\n",
      "Epoch 14/100\n",
      "5115/5115 - 0s - loss: 0.5313 - accuracy: 0.7865\n",
      "Epoch 15/100\n",
      "5115/5115 - 0s - loss: 0.5166 - accuracy: 0.7932\n",
      "Epoch 16/100\n",
      "5115/5115 - 0s - loss: 0.5131 - accuracy: 0.7935\n",
      "Epoch 17/100\n",
      "5115/5115 - 0s - loss: 0.5122 - accuracy: 0.7920\n",
      "Epoch 18/100\n",
      "5115/5115 - 0s - loss: 0.5085 - accuracy: 0.7916\n",
      "Epoch 19/100\n",
      "5115/5115 - 0s - loss: 0.5118 - accuracy: 0.7871\n",
      "Epoch 20/100\n",
      "5115/5115 - 0s - loss: 0.5058 - accuracy: 0.7945\n",
      "Epoch 21/100\n",
      "5115/5115 - 0s - loss: 0.5062 - accuracy: 0.7953\n",
      "Epoch 22/100\n",
      "5115/5115 - 0s - loss: 0.5054 - accuracy: 0.7937\n",
      "Epoch 23/100\n",
      "5115/5115 - 0s - loss: 0.5039 - accuracy: 0.7900\n",
      "Epoch 24/100\n",
      "5115/5115 - 0s - loss: 0.5006 - accuracy: 0.7967\n",
      "Epoch 25/100\n",
      "5115/5115 - 0s - loss: 0.4959 - accuracy: 0.7990\n",
      "Epoch 26/100\n",
      "5115/5115 - 0s - loss: 0.4982 - accuracy: 0.7937\n",
      "Epoch 27/100\n",
      "5115/5115 - 0s - loss: 0.4969 - accuracy: 0.7924\n",
      "Epoch 28/100\n",
      "5115/5115 - 0s - loss: 0.5004 - accuracy: 0.7910\n",
      "Epoch 29/100\n",
      "5115/5115 - 0s - loss: 0.4965 - accuracy: 0.7949\n",
      "Epoch 30/100\n",
      "5115/5115 - 0s - loss: 0.4981 - accuracy: 0.7912\n",
      "Epoch 31/100\n",
      "5115/5115 - 0s - loss: 0.4969 - accuracy: 0.7941\n",
      "Epoch 32/100\n",
      "5115/5115 - 0s - loss: 0.4986 - accuracy: 0.7918\n",
      "Epoch 33/100\n",
      "5115/5115 - 0s - loss: 0.4965 - accuracy: 0.7935\n",
      "Epoch 34/100\n",
      "5115/5115 - 0s - loss: 0.4933 - accuracy: 0.7963\n",
      "Epoch 35/100\n",
      "5115/5115 - 0s - loss: 0.4928 - accuracy: 0.7975\n",
      "Epoch 36/100\n",
      "5115/5115 - 0s - loss: 0.4927 - accuracy: 0.7953\n",
      "Epoch 37/100\n",
      "5115/5115 - 0s - loss: 0.4921 - accuracy: 0.7963\n",
      "Epoch 38/100\n",
      "5115/5115 - 0s - loss: 0.4916 - accuracy: 0.7947\n",
      "Epoch 39/100\n",
      "5115/5115 - 0s - loss: 0.4936 - accuracy: 0.7957\n",
      "Epoch 40/100\n",
      "5115/5115 - 0s - loss: 0.4910 - accuracy: 0.7947\n",
      "Epoch 41/100\n",
      "5115/5115 - 0s - loss: 0.4899 - accuracy: 0.8006\n",
      "Epoch 42/100\n",
      "5115/5115 - 0s - loss: 0.4951 - accuracy: 0.7932\n",
      "Epoch 43/100\n",
      "5115/5115 - 0s - loss: 0.4880 - accuracy: 0.7955\n",
      "Epoch 44/100\n",
      "5115/5115 - 0s - loss: 0.4899 - accuracy: 0.7957\n",
      "Epoch 45/100\n",
      "5115/5115 - 0s - loss: 0.4888 - accuracy: 0.7986\n",
      "Epoch 46/100\n",
      "5115/5115 - 0s - loss: 0.4892 - accuracy: 0.7918\n",
      "Epoch 47/100\n",
      "5115/5115 - 0s - loss: 0.4898 - accuracy: 0.7971\n",
      "Epoch 48/100\n",
      "5115/5115 - 0s - loss: 0.4898 - accuracy: 0.8012\n",
      "Epoch 49/100\n",
      "5115/5115 - 0s - loss: 0.4913 - accuracy: 0.7949\n",
      "Epoch 50/100\n",
      "5115/5115 - 0s - loss: 0.4851 - accuracy: 0.7943\n",
      "Epoch 51/100\n",
      "5115/5115 - 0s - loss: 0.4874 - accuracy: 0.7975\n",
      "Epoch 52/100\n",
      "5115/5115 - 0s - loss: 0.4865 - accuracy: 0.7967\n",
      "Epoch 53/100\n",
      "5115/5115 - 0s - loss: 0.4869 - accuracy: 0.7984\n",
      "Epoch 54/100\n",
      "5115/5115 - 0s - loss: 0.4851 - accuracy: 0.7984\n",
      "Epoch 55/100\n",
      "5115/5115 - 0s - loss: 0.4846 - accuracy: 0.7996\n",
      "Epoch 56/100\n",
      "5115/5115 - 0s - loss: 0.4853 - accuracy: 0.7978\n",
      "Epoch 57/100\n",
      "5115/5115 - 0s - loss: 0.4839 - accuracy: 0.7978\n",
      "Epoch 58/100\n",
      "5115/5115 - 0s - loss: 0.4870 - accuracy: 0.7988\n",
      "Epoch 59/100\n",
      "5115/5115 - 0s - loss: 0.4851 - accuracy: 0.7986\n",
      "Epoch 60/100\n",
      "5115/5115 - 0s - loss: 0.4853 - accuracy: 0.8010\n",
      "Epoch 61/100\n",
      "5115/5115 - 0s - loss: 0.4818 - accuracy: 0.8031\n",
      "Epoch 62/100\n",
      "5115/5115 - 0s - loss: 0.4833 - accuracy: 0.7965\n",
      "Epoch 63/100\n",
      "5115/5115 - 0s - loss: 0.4847 - accuracy: 0.7967\n",
      "Epoch 64/100\n",
      "5115/5115 - 0s - loss: 0.4828 - accuracy: 0.8022\n",
      "Epoch 65/100\n",
      "5115/5115 - 0s - loss: 0.4818 - accuracy: 0.7961\n",
      "Epoch 66/100\n",
      "5115/5115 - 0s - loss: 0.4816 - accuracy: 0.8012\n",
      "Epoch 67/100\n",
      "5115/5115 - 0s - loss: 0.4816 - accuracy: 0.8025\n",
      "Epoch 68/100\n",
      "5115/5115 - 0s - loss: 0.4825 - accuracy: 0.7982\n",
      "Epoch 69/100\n",
      "5115/5115 - 0s - loss: 0.4840 - accuracy: 0.7994\n",
      "Epoch 70/100\n",
      "5115/5115 - 0s - loss: 0.4841 - accuracy: 0.7986\n",
      "Epoch 71/100\n",
      "5115/5115 - 0s - loss: 0.4834 - accuracy: 0.7996\n",
      "Epoch 72/100\n",
      "5115/5115 - 0s - loss: 0.4817 - accuracy: 0.8002\n",
      "Epoch 73/100\n",
      "5115/5115 - 0s - loss: 0.4832 - accuracy: 0.8002\n",
      "Epoch 74/100\n",
      "5115/5115 - 0s - loss: 0.4806 - accuracy: 0.7934\n",
      "Epoch 75/100\n",
      "5115/5115 - 0s - loss: 0.4800 - accuracy: 0.8020\n",
      "Epoch 76/100\n",
      "5115/5115 - 0s - loss: 0.4840 - accuracy: 0.8016\n",
      "Epoch 77/100\n",
      "5115/5115 - 0s - loss: 0.4813 - accuracy: 0.8010\n",
      "Epoch 78/100\n",
      "5115/5115 - 0s - loss: 0.4812 - accuracy: 0.7980\n",
      "Epoch 79/100\n",
      "5115/5115 - 0s - loss: 0.4812 - accuracy: 0.8006\n",
      "Epoch 80/100\n",
      "5115/5115 - 0s - loss: 0.4825 - accuracy: 0.7971\n",
      "Epoch 81/100\n",
      "5115/5115 - 0s - loss: 0.4810 - accuracy: 0.7978\n",
      "Epoch 82/100\n",
      "5115/5115 - 0s - loss: 0.4798 - accuracy: 0.8014\n",
      "Epoch 83/100\n",
      "5115/5115 - 0s - loss: 0.4788 - accuracy: 0.7988\n",
      "Epoch 84/100\n",
      "5115/5115 - 0s - loss: 0.4804 - accuracy: 0.8027\n",
      "Epoch 85/100\n",
      "5115/5115 - 0s - loss: 0.4825 - accuracy: 0.7973\n",
      "Epoch 86/100\n",
      "5115/5115 - 0s - loss: 0.4799 - accuracy: 0.7984\n",
      "Epoch 87/100\n",
      "5115/5115 - 0s - loss: 0.4854 - accuracy: 0.7949\n",
      "Epoch 88/100\n",
      "5115/5115 - 0s - loss: 0.4832 - accuracy: 0.7963\n",
      "Epoch 89/100\n",
      "5115/5115 - 0s - loss: 0.4798 - accuracy: 0.7969\n",
      "Epoch 90/100\n",
      "5115/5115 - 0s - loss: 0.4787 - accuracy: 0.7984\n",
      "Epoch 91/100\n",
      "5115/5115 - 0s - loss: 0.4793 - accuracy: 0.8002\n",
      "Epoch 92/100\n",
      "5115/5115 - 0s - loss: 0.4757 - accuracy: 0.8031\n",
      "Epoch 93/100\n",
      "5115/5115 - 0s - loss: 0.4780 - accuracy: 0.8002\n",
      "Epoch 94/100\n",
      "5115/5115 - 0s - loss: 0.4769 - accuracy: 0.7990\n",
      "Epoch 95/100\n",
      "5115/5115 - 0s - loss: 0.4781 - accuracy: 0.8031\n",
      "Epoch 96/100\n",
      "5115/5115 - 0s - loss: 0.4779 - accuracy: 0.7988\n",
      "Epoch 97/100\n",
      "5115/5115 - 0s - loss: 0.4831 - accuracy: 0.7975\n",
      "Epoch 98/100\n",
      "5115/5115 - 0s - loss: 0.4833 - accuracy: 0.8006\n",
      "Epoch 99/100\n",
      "5115/5115 - 0s - loss: 0.4772 - accuracy: 0.7977\n",
      "Epoch 100/100\n",
      "5115/5115 - 0s - loss: 0.4808 - accuracy: 0.8025\n"
     ]
    },
    {
     "data": {
      "text/plain": [
       "<tensorflow.python.keras.callbacks.History at 0x1a47011d90>"
      ]
     },
     "execution_count": 10,
     "metadata": {},
     "output_type": "execute_result"
    }
   ],
   "source": [
    "model.compile(optimizer='adam',\n",
    "              loss='categorical_crossentropy',\n",
    "              metrics=['accuracy'])\n",
    "model.fit(\n",
    "    X_train_scaled,\n",
    "    y_train_categorical,\n",
    "    epochs=100,\n",
    "    shuffle=True,\n",
    "    verbose=2\n",
    ")"
   ]
  },
  {
   "cell_type": "markdown",
   "metadata": {},
   "source": [
    "## Quantify our Trained Model"
   ]
  },
  {
   "cell_type": "code",
   "execution_count": 11,
   "metadata": {},
   "outputs": [
    {
     "name": "stdout",
     "output_type": "stream",
     "text": [
      "1705/1 - 0s - loss: 0.9493 - accuracy: 0.7672\n",
      "Normal Neural Network - Loss: 0.5306910063164675, Accuracy: 0.7671554088592529\n"
     ]
    }
   ],
   "source": [
    "model_loss, model_accuracy = model.evaluate(\n",
    "    X_test_scaled, y_test_categorical, verbose=2)\n",
    "print(\n",
    "    f\"Normal Neural Network - Loss: {model_loss}, Accuracy: {model_accuracy}\")"
   ]
  },
  {
   "cell_type": "markdown",
   "metadata": {
    "slideshow": {
     "slide_type": "subslide"
    }
   },
   "source": [
    "# Saving a Trained Model\n",
    "We can save our trained models using the HDF5 binary format with the extension `.h5`"
   ]
  },
  {
   "cell_type": "code",
   "execution_count": 12,
   "metadata": {},
   "outputs": [],
   "source": [
    "# Save the model\n",
    "model.save(\"film_model_trained.h5\")"
   ]
  },
  {
   "cell_type": "markdown",
   "metadata": {},
   "source": [
    "# Loading a Model"
   ]
  },
  {
   "cell_type": "code",
   "execution_count": 13,
   "metadata": {},
   "outputs": [],
   "source": [
    "# Load the model\n",
    "from tensorflow.keras.models import load_model\n",
    "film_model = load_model(\"film_model_trained.h5\")"
   ]
  },
  {
   "cell_type": "markdown",
   "metadata": {},
   "source": [
    "## Evaluating the loaded model"
   ]
  },
  {
   "cell_type": "code",
   "execution_count": 14,
   "metadata": {},
   "outputs": [
    {
     "name": "stdout",
     "output_type": "stream",
     "text": [
      "1705/1 - 0s - loss: 0.9493 - accuracy: 0.7672\n",
      "Normal Neural Network - Loss: 0.5306910063164675, Accuracy: 0.7671554088592529\n"
     ]
    }
   ],
   "source": [
    "model_loss, model_accuracy = film_model.evaluate(\n",
    "    X_test_scaled, y_test_categorical, verbose=2)\n",
    "print(\n",
    "    f\"Normal Neural Network - Loss: {model_loss}, Accuracy: {model_accuracy}\")"
   ]
  },
  {
   "cell_type": "markdown",
   "metadata": {},
   "source": [
    "# Predictions"
   ]
  },
  {
   "cell_type": "code",
   "execution_count": null,
   "metadata": {},
   "outputs": [],
   "source": []
  },
  {
   "cell_type": "code",
   "execution_count": null,
   "metadata": {},
   "outputs": [],
   "source": []
  },
  {
   "cell_type": "code",
   "execution_count": 15,
   "metadata": {},
   "outputs": [],
   "source": [
    "parasite = np.array([[11000000,266000000, 132, 415741,  7.725, 7.775, 6.378, 5.778, 8.6, 9 ]])"
   ]
  },
  {
   "cell_type": "code",
   "execution_count": 16,
   "metadata": {},
   "outputs": [
    {
     "name": "stdout",
     "output_type": "stream",
     "text": [
      "Predicted Score : [2]\n"
     ]
    }
   ],
   "source": [
    "print(f\"Predicted Score : {model.predict_classes(parasite)}\")"
   ]
  },
  {
   "cell_type": "code",
   "execution_count": 17,
   "metadata": {},
   "outputs": [
    {
     "name": "stdout",
     "output_type": "stream",
     "text": [
      "Model: \"sequential\"\n",
      "_________________________________________________________________\n",
      "Layer (type)                 Output Shape              Param #   \n",
      "=================================================================\n",
      "dense (Dense)                (None, 30)                330       \n",
      "_________________________________________________________________\n",
      "dense_1 (Dense)              (None, 30)                930       \n",
      "_________________________________________________________________\n",
      "dense_2 (Dense)              (None, 5)                 155       \n",
      "=================================================================\n",
      "Total params: 1,415\n",
      "Trainable params: 1,415\n",
      "Non-trainable params: 0\n",
      "_________________________________________________________________\n"
     ]
    }
   ],
   "source": [
    "model.summary()"
   ]
  },
  {
   "cell_type": "code",
   "execution_count": null,
   "metadata": {},
   "outputs": [],
   "source": []
  },
  {
   "cell_type": "code",
   "execution_count": null,
   "metadata": {},
   "outputs": [],
   "source": []
  },
  {
   "cell_type": "code",
   "execution_count": null,
   "metadata": {},
   "outputs": [],
   "source": []
  },
  {
   "cell_type": "code",
   "execution_count": null,
   "metadata": {},
   "outputs": [],
   "source": []
  },
  {
   "cell_type": "code",
   "execution_count": null,
   "metadata": {},
   "outputs": [],
   "source": []
  }
 ],
 "metadata": {
  "kernelspec": {
   "display_name": "Python 3",
   "language": "python",
   "name": "python3"
  },
  "language_info": {
   "codemirror_mode": {
    "name": "ipython",
    "version": 3
   },
   "file_extension": ".py",
   "mimetype": "text/x-python",
   "name": "python",
   "nbconvert_exporter": "python",
   "pygments_lexer": "ipython3",
   "version": "3.7.5"
  },
  "varInspector": {
   "cols": {
    "lenName": 16,
    "lenType": 16,
    "lenVar": 40
   },
   "kernels_config": {
    "python": {
     "delete_cmd_postfix": "",
     "delete_cmd_prefix": "del ",
     "library": "var_list.py",
     "varRefreshCmd": "print(var_dic_list())"
    },
    "r": {
     "delete_cmd_postfix": ") ",
     "delete_cmd_prefix": "rm(",
     "library": "var_list.r",
     "varRefreshCmd": "cat(var_dic_list()) "
    }
   },
   "types_to_exclude": [
    "module",
    "function",
    "builtin_function_or_method",
    "instance",
    "_Feature"
   ],
   "window_display": false
  }
 },
 "nbformat": 4,
 "nbformat_minor": 4
}
